{
  "nbformat": 4,
  "nbformat_minor": 0,
  "metadata": {
    "colab": {
      "provenance": [],
      "toc_visible": true,
      "authorship_tag": "ABX9TyOtAxG6xkNEjXI6vB6gEodZ",
      "include_colab_link": true
    },
    "kernelspec": {
      "name": "ir",
      "display_name": "R"
    },
    "language_info": {
      "name": "R"
    }
  },
  "cells": [
    {
      "cell_type": "markdown",
      "metadata": {
        "id": "view-in-github",
        "colab_type": "text"
      },
      "source": [
        "<a href=\"https://colab.research.google.com/github/W-Srikongpan/Multivariate_Analysis/blob/main/chapter4.ipynb\" target=\"_parent\"><img src=\"https://colab.research.google.com/assets/colab-badge.svg\" alt=\"Open In Colab\"/></a>"
      ]
    },
    {
      "cell_type": "markdown",
      "source": [
        "#Comparison of Several Multivariate Means\n"
      ],
      "metadata": {
        "id": "G4XFl9hINghy"
      }
    },
    {
      "cell_type": "markdown",
      "source": [
        "##1) Comparing Several Multivariate Population Means (One-Way MANOVA)"
      ],
      "metadata": {
        "id": "E2YI5qxyNj4g"
      }
    },
    {
      "cell_type": "markdown",
      "source": [
        "###Example 1"
      ],
      "metadata": {
        "id": "MCEeJZSKSlpr"
      }
    },
    {
      "cell_type": "markdown",
      "source": [
        "Let parameter"
      ],
      "metadata": {
        "id": "ELMDIxuDOST5"
      }
    },
    {
      "cell_type": "code",
      "source": [
        "n1 = 271\n",
        "n2 = 138\n",
        "n3 = 107\n",
        "p = 4"
      ],
      "metadata": {
        "id": "HW-hvk4NOOp6"
      },
      "execution_count": 176,
      "outputs": []
    },
    {
      "cell_type": "code",
      "execution_count": 177,
      "metadata": {
        "id": "0upt6iT7NdQK"
      },
      "outputs": [],
      "source": [
        "X1bar = matrix(c(2.006,0.48,0.082,0.36),4,1)\n",
        "X2bar = matrix(c(2.167,0.596,0.124,0.418),4,1)\n",
        "X3bar = matrix(c(2.273,0.521,0.125,0.383),4,1)\n",
        "\n",
        "S1=matrix(c(0.291,-0.001,0.002,0.01,-0.001,\n",
        "            0.011,0.001,0.003,0.002,0.001,\n",
        "            0.001,0.001,0.01,0.003,0.001,0.01),4,4)\n",
        "S2=matrix(c(0.561,0.011,0.001,0.037,0.011,\n",
        "            0.025,0.004,0.007,0.001,0.004,\n",
        "            0.005,0.002,0.037,0.007,0.002,0.019),4,4)\n",
        "S3=matrix(c(0.261,0.03,0.003,0.018,0.03,\n",
        "            0.017,-0.001,0.006,0.003,-0.001,\n",
        "            0.004,0.001,0.018,0.006,0.001,0.013),4,4)"
      ]
    },
    {
      "cell_type": "code",
      "source": [
        "W = (n1-1)*S1 + (n2-1)*S2 + (n3-1)*S3\n",
        "print(W)"
      ],
      "metadata": {
        "colab": {
          "base_uri": "https://localhost:8080/"
        },
        "id": "XEYxSlWaOXiI",
        "outputId": "649ba4da-bd41-4004-ffe9-20926d247e77"
      },
      "execution_count": 178,
      "outputs": [
        {
          "output_type": "stream",
          "name": "stdout",
          "text": [
            "        [,1]  [,2]  [,3]  [,4]\n",
            "[1,] 183.093 4.417 0.995 9.677\n",
            "[2,]   4.417 8.197 0.712 2.405\n",
            "[3,]   0.995 0.712 1.379 0.650\n",
            "[4,]   9.677 2.405 0.650 6.681\n"
          ]
        }
      ]
    },
    {
      "cell_type": "code",
      "source": [
        "xbar = (n1*X1bar+n2*X2bar+n3*X3bar)/(n1+n2+n3)\n",
        "print(xbar)"
      ],
      "metadata": {
        "colab": {
          "base_uri": "https://localhost:8080/"
        },
        "id": "41Qtu5R5Odqz",
        "outputId": "67ffae71-3cd2-4543-ae92-8c1a52020d0f"
      },
      "execution_count": 179,
      "outputs": [
        {
          "output_type": "stream",
          "name": "stdout",
          "text": [
            "          [,1]\n",
            "[1,] 2.1044244\n",
            "[2,] 0.5195252\n",
            "[3,] 0.1021492\n",
            "[4,] 0.3802810\n"
          ]
        }
      ]
    },
    {
      "cell_type": "code",
      "source": [
        "B = (n1*(X1bar - xbar)%*%t(X1bar - xbar)) + (n2*(X2bar - xbar)%*%t(X2bar - xbar)) + (n3*(X3bar - xbar)%*%t(X3bar - xbar))\n",
        "print(B)"
      ],
      "metadata": {
        "colab": {
          "base_uri": "https://localhost:8080/"
        },
        "id": "WszsZPPkOvm7",
        "outputId": "8497c1f9-9767-47a6-821e-8f20e563d82c"
      },
      "execution_count": 180,
      "outputs": [
        {
          "output_type": "stream",
          "name": "stdout",
          "text": [
            "          [,1]      [,2]      [,3]      [,4]\n",
            "[1,] 6.2063401 1.7412510 1.1383043 0.9157195\n",
            "[2,] 1.7412510 1.2306787 0.4500336 0.6157338\n",
            "[3,] 1.1383043 0.4500336 0.2317835 0.2311294\n",
            "[4,] 0.9157195 0.6157338 0.2311294 0.3085943\n"
          ]
        }
      ]
    },
    {
      "cell_type": "code",
      "source": [
        "lamda = det(W)/det(B+W)\n",
        "print(lamda)"
      ],
      "metadata": {
        "colab": {
          "base_uri": "https://localhost:8080/"
        },
        "id": "A95QqqTmOzd0",
        "outputId": "68aa45d6-d04a-40be-ebe0-97ac5a94a918"
      },
      "execution_count": 181,
      "outputs": [
        {
          "output_type": "stream",
          "name": "stdout",
          "text": [
            "[1] 0.7613785\n"
          ]
        }
      ]
    },
    {
      "cell_type": "code",
      "source": [
        "comp_val = ((n1 + n2 + n3 - p - 2)/p)*((1 - sqrt(lamda))/sqrt(lamda))\n",
        "print(comp_val)"
      ],
      "metadata": {
        "colab": {
          "base_uri": "https://localhost:8080/"
        },
        "id": "-mx7TzTGPJDA",
        "outputId": "058cd2b2-0880-41b8-eb4e-a6c2ffeaa550"
      },
      "execution_count": 182,
      "outputs": [
        {
          "output_type": "stream",
          "name": "stdout",
          "text": [
            "[1] 18.62007\n"
          ]
        }
      ]
    },
    {
      "cell_type": "code",
      "source": [
        "alpha = 0.05\n",
        "qf(1 - alpha,2*p,2*(n1+n2+n3))"
      ],
      "metadata": {
        "colab": {
          "base_uri": "https://localhost:8080/",
          "height": 34
        },
        "id": "JFrByv0UPRNW",
        "outputId": "7e3069e7-c1f7-461a-d0bf-e3e0b4891a79"
      },
      "execution_count": 183,
      "outputs": [
        {
          "output_type": "display_data",
          "data": {
            "text/html": [
              "1.94735925810716"
            ],
            "text/markdown": "1.94735925810716",
            "text/latex": "1.94735925810716",
            "text/plain": [
              "[1] 1.947359"
            ]
          },
          "metadata": {}
        }
      ]
    },
    {
      "cell_type": "markdown",
      "source": [
        "    Since 18.62007 greater than F(8,1020,0.05).\n",
        "    Then reject H0 at the 0.05 significant level and conclude that average costs differ, depending on type of ownership.\n"
      ],
      "metadata": {
        "id": "Qls0sQ9APeow"
      }
    },
    {
      "cell_type": "markdown",
      "source": [
        "### Example 2"
      ],
      "metadata": {
        "id": "XV8H0VZcS2hE"
      }
    },
    {
      "cell_type": "code",
      "source": [
        "X1 = matrix(c(21,25,20,24,12,8,12,10),4,2)\n",
        "X2 = matrix(c(31,23,24,28,9,12,13,10),4,2)\n",
        "X3 = matrix(c(34,29,35,32,10,14,11,13),4,2)\n",
        "X4 = matrix(c(33,38,34,35,14,12,13,13),4,2)"
      ],
      "metadata": {
        "id": "z8n93lRTS42f"
      },
      "execution_count": 184,
      "outputs": []
    },
    {
      "cell_type": "code",
      "source": [
        "X1mean = colMeans(X1)\n",
        "paste('X1mean[1] = ',X1mean[1],' || X1mean[2] = ',X1mean[2],sep = \"\")\n",
        "X2mean = colMeans(X2)\n",
        "paste('X2mean[1] = ',X2mean[1],' || X2mean[2] = ',X2mean[2],sep = \"\")\n",
        "X3mean = colMeans(X3)\n",
        "paste('X3mean[1] = ',X3mean[1],' || X3mean[2] = ',X3mean[2],sep = \"\")\n",
        "X4mean = colMeans(X4)\n",
        "paste('X4mean[1] = ',X4mean[1],' || X4mean[2] = ',X4mean[2],sep = \"\")"
      ],
      "metadata": {
        "colab": {
          "base_uri": "https://localhost:8080/",
          "height": 85
        },
        "id": "dcWqXHwjTuTH",
        "outputId": "0207ed05-19e5-43e4-8ed8-c551e60c9c83"
      },
      "execution_count": 185,
      "outputs": [
        {
          "output_type": "display_data",
          "data": {
            "text/html": [
              "'X1mean[1] = 22.5 || X1mean[2] = 10.5'"
            ],
            "text/markdown": "'X1mean[1] = 22.5 || X1mean[2] = 10.5'",
            "text/latex": "'X1mean{[}1{]} = 22.5 \\textbar{}\\textbar{} X1mean{[}2{]} = 10.5'",
            "text/plain": [
              "[1] \"X1mean[1] = 22.5 || X1mean[2] = 10.5\""
            ]
          },
          "metadata": {}
        },
        {
          "output_type": "display_data",
          "data": {
            "text/html": [
              "'X2mean[1] = 26.5 || X2mean[2] = 11'"
            ],
            "text/markdown": "'X2mean[1] = 26.5 || X2mean[2] = 11'",
            "text/latex": "'X2mean{[}1{]} = 26.5 \\textbar{}\\textbar{} X2mean{[}2{]} = 11'",
            "text/plain": [
              "[1] \"X2mean[1] = 26.5 || X2mean[2] = 11\""
            ]
          },
          "metadata": {}
        },
        {
          "output_type": "display_data",
          "data": {
            "text/html": [
              "'X3mean[1] = 32.5 || X3mean[2] = 12'"
            ],
            "text/markdown": "'X3mean[1] = 32.5 || X3mean[2] = 12'",
            "text/latex": "'X3mean{[}1{]} = 32.5 \\textbar{}\\textbar{} X3mean{[}2{]} = 12'",
            "text/plain": [
              "[1] \"X3mean[1] = 32.5 || X3mean[2] = 12\""
            ]
          },
          "metadata": {}
        },
        {
          "output_type": "display_data",
          "data": {
            "text/html": [
              "'X4mean[1] = 35 || X4mean[2] = 13'"
            ],
            "text/markdown": "'X4mean[1] = 35 || X4mean[2] = 13'",
            "text/latex": "'X4mean{[}1{]} = 35 \\textbar{}\\textbar{} X4mean{[}2{]} = 13'",
            "text/plain": [
              "[1] \"X4mean[1] = 35 || X4mean[2] = 13\""
            ]
          },
          "metadata": {}
        }
      ]
    },
    {
      "cell_type": "code",
      "source": [
        "n1 = length(X1[,1])\n",
        "n2 = length(X2[,1])\n",
        "n3 = length(X3[,1])\n",
        "n4 = length(X4[,1])\n",
        "p = length(X1[1,])\n",
        "S1 = cov(X1)\n",
        "S2 = cov(X2)\n",
        "S3 = cov(X3)\n",
        "S4 = cov(X4)\n",
        "W = (n1-1)*S1 + (n2-1)*S2 + (n3-1)*S3 + (n4-1)*S4\n",
        "print(W)\n",
        "xbar = (n1*X1mean + n2*X2mean + n3*X3mean + n4*X4mean)/(n1+n2+n3+n4)\n",
        "xbar\n",
        "B = (n1*(X1mean-xbar) %*% t(X1mean-xbar)) + (n2*(X2mean-xbar) %*% t(X2mean-xbar)) +\n",
        "  (n3*(X3mean-xbar) %*% t(X3mean-xbar)) + (n4*(X4mean-xbar) %*% t(X4mean-xbar))\n",
        "print(B)"
      ],
      "metadata": {
        "colab": {
          "base_uri": "https://localhost:8080/",
          "height": 136
        },
        "id": "K5IDUlWvUpQP",
        "outputId": "16f2cfb8-c8ac-412e-bb19-f91dc016fb55"
      },
      "execution_count": 186,
      "outputs": [
        {
          "output_type": "stream",
          "name": "stdout",
          "text": [
            "     [,1] [,2]\n",
            "[1,]   93  -50\n",
            "[2,]  -50   33\n"
          ]
        },
        {
          "output_type": "display_data",
          "data": {
            "text/html": [
              "<style>\n",
              ".list-inline {list-style: none; margin:0; padding: 0}\n",
              ".list-inline>li {display: inline-block}\n",
              ".list-inline>li:not(:last-child)::after {content: \"\\00b7\"; padding: 0 .5ex}\n",
              "</style>\n",
              "<ol class=list-inline><li>29.125</li><li>11.625</li></ol>\n"
            ],
            "text/markdown": "1. 29.125\n2. 11.625\n\n\n",
            "text/latex": "\\begin{enumerate*}\n\\item 29.125\n\\item 11.625\n\\end{enumerate*}\n",
            "text/plain": [
              "[1] 29.125 11.625"
            ]
          },
          "metadata": {}
        },
        {
          "output_type": "stream",
          "name": "stdout",
          "text": [
            "       [,1]  [,2]\n",
            "[1,] 386.75 73.75\n",
            "[2,]  73.75 14.75\n"
          ]
        }
      ]
    },
    {
      "cell_type": "code",
      "source": [
        "Lamda = det(W)/det(B+W)\n",
        "paste(\"Lamda = \",Lamda)"
      ],
      "metadata": {
        "colab": {
          "base_uri": "https://localhost:8080/",
          "height": 34
        },
        "id": "-nkfBY6WX3V-",
        "outputId": "627cca17-4c1c-4399-d331-b34ce3e4f974"
      },
      "execution_count": 187,
      "outputs": [
        {
          "output_type": "display_data",
          "data": {
            "text/html": [
              "<span style=white-space:pre-wrap>'Lamda =  0.0254654493376298'</span>"
            ],
            "text/markdown": "<span style=white-space:pre-wrap>'Lamda =  0.0254654493376298'</span>",
            "text/latex": "'Lamda =  0.0254654493376298'",
            "text/plain": [
              "[1] \"Lamda =  0.0254654493376298\""
            ]
          },
          "metadata": {}
        }
      ]
    },
    {
      "cell_type": "code",
      "source": [
        "statistic = (((n1+n2+n3+n4)-4-1)/(4-1))*((1-sqrt(Lamda))/sqrt(Lamda))\n",
        "paste(\"statistic = \",statistic)"
      ],
      "metadata": {
        "colab": {
          "base_uri": "https://localhost:8080/",
          "height": 34
        },
        "id": "f9fChN4MX_mT",
        "outputId": "f2c7969c-f314-43be-c74b-62797e1de2df"
      },
      "execution_count": 188,
      "outputs": [
        {
          "output_type": "display_data",
          "data": {
            "text/html": [
              "<span style=white-space:pre-wrap>'statistic =  19.3104621263056'</span>"
            ],
            "text/markdown": "<span style=white-space:pre-wrap>'statistic =  19.3104621263056'</span>",
            "text/latex": "'statistic =  19.3104621263056'",
            "text/plain": [
              "[1] \"statistic =  19.3104621263056\""
            ]
          },
          "metadata": {}
        }
      ]
    },
    {
      "cell_type": "code",
      "source": [
        "cri_val = qf(1-alpha,6,27)\n",
        "paste(\"Critical value = \",cri_val)"
      ],
      "metadata": {
        "colab": {
          "base_uri": "https://localhost:8080/",
          "height": 34
        },
        "id": "mQgF1MnfY7y7",
        "outputId": "9fefa3aa-ce57-44b9-c238-e1f1829ef902"
      },
      "execution_count": 189,
      "outputs": [
        {
          "output_type": "display_data",
          "data": {
            "text/html": [
              "<span style=white-space:pre-wrap>'Critical value =  2.45910844257833'</span>"
            ],
            "text/markdown": "<span style=white-space:pre-wrap>'Critical value =  2.45910844257833'</span>",
            "text/latex": "'Critical value =  2.45910844257833'",
            "text/plain": [
              "[1] \"Critical value =  2.45910844257833\""
            ]
          },
          "metadata": {}
        }
      ]
    },
    {
      "cell_type": "markdown",
      "source": [
        "    The statistic is 19.3104621263056 greater than 2.45910844257833. Then reject H0."
      ],
      "metadata": {
        "id": "BgrD-xDAZjxc"
      }
    },
    {
      "cell_type": "markdown",
      "source": [
        "##2) Simultaneous Confidence Intervals for Treatment Effects"
      ],
      "metadata": {
        "id": "ORY0K3BRaQWC"
      }
    },
    {
      "cell_type": "markdown",
      "source": [
        "    When the hypothesis of equal treatment effects is rejected, those effects that led to the rejection of the hypothesis are of interest.\n",
        "\n",
        "    For pairwise comparisons, the Bonferroni approach can be used to construct simultaneous confidence intervals for the components of the differences τk =τl"
      ],
      "metadata": {
        "id": "ZiyR6mDuaXi_"
      }
    },
    {
      "cell_type": "markdown",
      "source": [
        "###Example 3"
      ],
      "metadata": {
        "id": "9O64sMw_ajKp"
      }
    },
    {
      "cell_type": "markdown",
      "source": [
        "    H0: mu1=mu2 ; H1: mu1=!mu2\n",
        "    H0: mu1=mu3 ; H1: mu1=!mu3\n",
        "    H0: mu2=mu3 ; H1: mu2=!mu3"
      ],
      "metadata": {
        "id": "FGYemeC7apTw"
      }
    },
    {
      "cell_type": "code",
      "source": [
        "X1bar = matrix(c(2.006,0.48,0.082,0.36),4,1)\n",
        "X2bar = matrix(c(2.167,0.596,0.124,0.418),4,1)\n",
        "X3bar = matrix(c(2.273,0.521,0.125,0.383),4,1)\n",
        "xbar = (n1*X1bar+n2*X2bar+n3*X3bar)/(n1+n2+n3)\n",
        "\n",
        "S1=matrix(c(0.291,-0.001,0.002,0.01,-0.001,\n",
        "            0.011,0.001,0.003,0.002,0.001,\n",
        "            0.001,0.001,0.01,0.003,0.001,0.01),4,4)\n",
        "S2=matrix(c(0.561,0.011,0.001,0.037,0.011,\n",
        "            0.025,0.004,0.007,0.001,0.004,\n",
        "            0.005,0.002,0.037,0.007,0.002,0.019),4,4)\n",
        "S3=matrix(c(0.261,0.03,0.003,0.018,0.03,\n",
        "            0.017,-0.001,0.006,0.003,-0.001,\n",
        "            0.004,0.001,0.018,0.006,0.001,0.013),4,4)\n",
        "\n",
        "xbar = (n1*X1bar+n2*X2bar+n3*X3bar)/(n1+n2+n3)"
      ],
      "metadata": {
        "id": "qeUgmPMkdVQ_"
      },
      "execution_count": 190,
      "outputs": []
    },
    {
      "cell_type": "code",
      "source": [
        "Mu1 = X1bar-xbar\n",
        "Mu1 = Mu1[3]\n",
        "paste(\"Mu1 = \",Mu1)\n",
        "\n",
        "\n",
        "Mu2 = X2bar-xbar\n",
        "Mu2 = Mu2[3]\n",
        "paste(\"Mu2 = \",Mu2)\n",
        "\n",
        "\n",
        "Mu3=X3bar-xbar\n",
        "Mu3 = Mu3[3]\n",
        "paste(\"Mu3 = \",Mu3)\n",
        "\n",
        "W = (n1-1)*S1 + (n2-1)*S2 + (n3-1)*S3\n",
        "W = W[3,3]"
      ],
      "metadata": {
        "colab": {
          "base_uri": "https://localhost:8080/",
          "height": 68
        },
        "id": "jz1ub0qcZey7",
        "outputId": "aa9bf18d-2a2d-4852-8653-7a5436544b18"
      },
      "execution_count": 201,
      "outputs": [
        {
          "output_type": "display_data",
          "data": {
            "text/html": [
              "<span style=white-space:pre-wrap>'Mu1 =  -0.0283333333333333'</span>"
            ],
            "text/markdown": "<span style=white-space:pre-wrap>'Mu1 =  -0.0283333333333333'</span>",
            "text/latex": "'Mu1 =  -0.0283333333333333'",
            "text/plain": [
              "[1] \"Mu1 =  -0.0283333333333333\""
            ]
          },
          "metadata": {}
        },
        {
          "output_type": "display_data",
          "data": {
            "text/html": [
              "<span style=white-space:pre-wrap>'Mu2 =  0.0136666666666667'</span>"
            ],
            "text/markdown": "<span style=white-space:pre-wrap>'Mu2 =  0.0136666666666667'</span>",
            "text/latex": "'Mu2 =  0.0136666666666667'",
            "text/plain": [
              "[1] \"Mu2 =  0.0136666666666667\""
            ]
          },
          "metadata": {}
        },
        {
          "output_type": "display_data",
          "data": {
            "text/html": [
              "<span style=white-space:pre-wrap>'Mu3 =  0.0146666666666667'</span>"
            ],
            "text/markdown": "<span style=white-space:pre-wrap>'Mu3 =  0.0146666666666667'</span>",
            "text/latex": "'Mu3 =  0.0146666666666667'",
            "text/plain": [
              "[1] \"Mu3 =  0.0146666666666667\""
            ]
          },
          "metadata": {}
        }
      ]
    },
    {
      "cell_type": "code",
      "source": [
        "n1 = 271\n",
        "n2 = 138\n",
        "n3 = 107\n",
        "p = 4\n",
        "g = 3\n",
        "alpha = 0.05\n",
        "n = n1 + n2 + n3\n",
        "t_value = qt(alpha/(p*g*(g-1)), n-g , lower.tail=FALSE)"
      ],
      "metadata": {
        "id": "czGPH9eIbls7"
      },
      "execution_count": 192,
      "outputs": []
    },
    {
      "cell_type": "markdown",
      "source": [
        "#### Mu1 and Mu2\n",
        "\n",
        "    H0: mu1 = mu2\n",
        "    H1: mu1 =! mu2"
      ],
      "metadata": {
        "id": "z4-PRPrpbKxY"
      }
    },
    {
      "cell_type": "code",
      "source": [
        "a = t_value * sqrt((W/(n-g))*((1/n1)+(1/n2)))\n",
        "Confidence_up_13_23 = (Mu1 - Mu2) + a\n",
        "Confidence_up_13_23\n",
        "Confidence_low_13_23 = (Mu1 - Mu2) - a\n",
        "Confidence_low_13_23"
      ],
      "metadata": {
        "colab": {
          "base_uri": "https://localhost:8080/",
          "height": 51
        },
        "id": "9HULdpwga4NK",
        "outputId": "2246c37d-85f5-4949-96d4-fa039f36d662"
      },
      "execution_count": 203,
      "outputs": [
        {
          "output_type": "display_data",
          "data": {
            "text/html": [
              "-0.0263944921858948"
            ],
            "text/markdown": "-0.0263944921858948",
            "text/latex": "-0.0263944921858948",
            "text/plain": [
              "[1] -0.02639449"
            ]
          },
          "metadata": {}
        },
        {
          "output_type": "display_data",
          "data": {
            "text/html": [
              "-0.0576055078141052"
            ],
            "text/markdown": "-0.0576055078141052",
            "text/latex": "-0.0576055078141052",
            "text/plain": [
              "[1] -0.05760551"
            ]
          },
          "metadata": {}
        }
      ]
    },
    {
      "cell_type": "markdown",
      "source": [
        "    The 95% simultaneous confidence of Mu13 and Mu23 is (-0.05760551 , -0.02639449)\n"
      ],
      "metadata": {
        "id": "cej9plQKkWO9"
      }
    },
    {
      "cell_type": "markdown",
      "source": [
        "#### Mu1 and Mu3\n",
        "\n",
        "    H0: mu1=mu3\n",
        "    H1: mu1=!mu3"
      ],
      "metadata": {
        "id": "8wwR53SjcLhT"
      }
    },
    {
      "cell_type": "code",
      "source": [
        "b = t_value * sqrt((W/(n-g))*((1/n1)+(1/n3)))\n",
        "Confidence_up_13_33 = (Mu1 - Mu3) + b\n",
        "Confidence_up_13_33\n",
        "Confidence_low_13_33 = (Mu1 - Mu3) - b\n",
        "Confidence_low_13_33"
      ],
      "metadata": {
        "colab": {
          "base_uri": "https://localhost:8080/",
          "height": 51
        },
        "id": "iRt50XHWbfSs",
        "outputId": "c20edeab-3da7-432d-e007-82aa5e9c1faf"
      },
      "execution_count": 204,
      "outputs": [
        {
          "output_type": "display_data",
          "data": {
            "text/html": [
              "-0.0259623455532918"
            ],
            "text/markdown": "-0.0259623455532918",
            "text/latex": "-0.0259623455532918",
            "text/plain": [
              "[1] -0.02596235"
            ]
          },
          "metadata": {}
        },
        {
          "output_type": "display_data",
          "data": {
            "text/html": [
              "-0.0600376544467082"
            ],
            "text/markdown": "-0.0600376544467082",
            "text/latex": "-0.0600376544467082",
            "text/plain": [
              "[1] -0.06003765"
            ]
          },
          "metadata": {}
        }
      ]
    },
    {
      "cell_type": "markdown",
      "source": [
        "    The 95% simultaneous confidence of Mu13 and Mu33 is (-0.06003765 , -0.02596235)"
      ],
      "metadata": {
        "id": "o1yC88hnkdo2"
      }
    },
    {
      "cell_type": "markdown",
      "source": [
        "#### Mu2 and Mu3\n",
        "\n",
        "    H0: mu2 = mu3\n",
        "    H1: mu2 =! mu3"
      ],
      "metadata": {
        "id": "fy_dTna5c9Wm"
      }
    },
    {
      "cell_type": "code",
      "source": [
        "c = t_value * sqrt((W/(n-g))*((1/n2)+(1/n3)))\n",
        "Confidence_up_23_33 = (Mu2 - Mu3) + c\n",
        "Confidence_up_23_33\n",
        "Confidence_low_23_33 = (Mu2 - Mu3) - c\n",
        "Confidence_low_23_33"
      ],
      "metadata": {
        "colab": {
          "base_uri": "https://localhost:8080/",
          "height": 51
        },
        "id": "jp3ktNqscZOs",
        "outputId": "1df7cf30-76c5-4c24-e6fb-213e7510c6af"
      },
      "execution_count": 205,
      "outputs": [
        {
          "output_type": "display_data",
          "data": {
            "text/html": [
              "0.0182217113071079"
            ],
            "text/markdown": "0.0182217113071079",
            "text/latex": "0.0182217113071079",
            "text/plain": [
              "[1] 0.01822171"
            ]
          },
          "metadata": {}
        },
        {
          "output_type": "display_data",
          "data": {
            "text/html": [
              "-0.0202217113071079"
            ],
            "text/markdown": "-0.0202217113071079",
            "text/latex": "-0.0202217113071079",
            "text/plain": [
              "[1] -0.02022171"
            ]
          },
          "metadata": {}
        }
      ]
    },
    {
      "cell_type": "markdown",
      "source": [
        "    The 95% simultaneous confidence of Mu23 and Mu33 is (-0.02022171 , 0.01822171)"
      ],
      "metadata": {
        "id": "Y-Gf6ZOEkPBI"
      }
    },
    {
      "cell_type": "markdown",
      "source": [
        "Thus, a difference in this cost exists between 1.privately and 2.nonprofit nursing homes, but no difference is observed between 2.nonprofit and 3.government nursing homes."
      ],
      "metadata": {
        "id": "hffynwU_klqA"
      }
    }
  ]
}