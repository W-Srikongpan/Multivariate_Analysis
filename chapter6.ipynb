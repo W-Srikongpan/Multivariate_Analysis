{
  "nbformat": 4,
  "nbformat_minor": 0,
  "metadata": {
    "colab": {
      "provenance": [],
      "toc_visible": true,
      "authorship_tag": "ABX9TyMcTBUXrNQla0+BFswGYbHB",
      "include_colab_link": true
    },
    "kernelspec": {
      "name": "ir",
      "display_name": "R"
    },
    "language_info": {
      "name": "R"
    }
  },
  "cells": [
    {
      "cell_type": "markdown",
      "metadata": {
        "id": "view-in-github",
        "colab_type": "text"
      },
      "source": [
        "<a href=\"https://colab.research.google.com/github/W-Srikongpan/Multivariate_Analysis/blob/main/chapter6.ipynb\" target=\"_parent\"><img src=\"https://colab.research.google.com/assets/colab-badge.svg\" alt=\"Open In Colab\"/></a>"
      ]
    },
    {
      "cell_type": "markdown",
      "source": [
        "#Factor Analysis"
      ],
      "metadata": {
        "id": "yULm2vmJauBX"
      }
    },
    {
      "cell_type": "markdown",
      "source": [
        "##Install packages"
      ],
      "metadata": {
        "id": "H9zWomu_a2Oe"
      }
    },
    {
      "cell_type": "code",
      "source": [
        "install.packages('psych')\n",
        "install.packages('GPArotation')"
      ],
      "metadata": {
        "colab": {
          "base_uri": "https://localhost:8080/"
        },
        "id": "fs31yhF2a15T",
        "outputId": "d944a581-ef37-4de4-e17c-a5e356622569"
      },
      "execution_count": 1,
      "outputs": [
        {
          "output_type": "stream",
          "name": "stderr",
          "text": [
            "Installing package into ‘/usr/local/lib/R/site-library’\n",
            "(as ‘lib’ is unspecified)\n",
            "\n",
            "also installing the dependency ‘mnormt’\n",
            "\n",
            "\n",
            "Installing package into ‘/usr/local/lib/R/site-library’\n",
            "(as ‘lib’ is unspecified)\n",
            "\n"
          ]
        }
      ]
    },
    {
      "cell_type": "markdown",
      "source": [
        "##Import library"
      ],
      "metadata": {
        "id": "-RLviH50a-pE"
      }
    },
    {
      "cell_type": "code",
      "source": [
        "library(psych)\n",
        "library(GPArotation)\n",
        "library(readr)"
      ],
      "metadata": {
        "id": "RFzSGPkUbD8l"
      },
      "execution_count": 19,
      "outputs": []
    },
    {
      "cell_type": "markdown",
      "source": [
        "#1) Check that we can apply FA to this data"
      ],
      "metadata": {
        "id": "D714E552cqTv"
      }
    },
    {
      "cell_type": "markdown",
      "source": [
        "##Create Data"
      ],
      "metadata": {
        "id": "bWcxoZGLbE8M"
      }
    },
    {
      "cell_type": "code",
      "execution_count": 20,
      "metadata": {
        "id": "BeZCfWkX3BZL",
        "colab": {
          "base_uri": "https://localhost:8080/"
        },
        "outputId": "f2bfb67f-45a9-4d6f-f1bf-0a379de1c30e"
      },
      "outputs": [
        {
          "output_type": "stream",
          "name": "stderr",
          "text": [
            "\u001b[1mRows: \u001b[22m\u001b[34m90\u001b[39m \u001b[1mColumns: \u001b[22m\u001b[34m14\u001b[39m\n",
            "\u001b[36m──\u001b[39m \u001b[1mColumn specification\u001b[22m \u001b[36m────────────────────────────────────────────────────────\u001b[39m\n",
            "\u001b[1mDelimiter:\u001b[22m \",\"\n",
            "\u001b[32mdbl\u001b[39m (14): Price, Safety, Exterior_Looks, Space_comfort, Technology, After_Sa...\n",
            "\n",
            "\u001b[36mℹ\u001b[39m Use `spec()` to retrieve the full column specification for this data.\n",
            "\u001b[36mℹ\u001b[39m Specify the column types or set `show_col_types = FALSE` to quiet this message.\n"
          ]
        }
      ],
      "source": [
        "EFA <- read_csv('/content/sample_data/EFA.csv')"
      ]
    },
    {
      "cell_type": "code",
      "source": [
        "head(EFA)"
      ],
      "metadata": {
        "colab": {
          "base_uri": "https://localhost:8080/",
          "height": 303
        },
        "id": "p0shreWjbMtB",
        "outputId": "992cf2c6-02c7-44ed-fb10-c5df8ee20054"
      },
      "execution_count": 21,
      "outputs": [
        {
          "output_type": "display_data",
          "data": {
            "text/html": [
              "<table class=\"dataframe\">\n",
              "<caption>A tibble: 6 × 14</caption>\n",
              "<thead>\n",
              "\t<tr><th scope=col>Price</th><th scope=col>Safety</th><th scope=col>Exterior_Looks</th><th scope=col>Space_comfort</th><th scope=col>Technology</th><th scope=col>After_Sales_Service</th><th scope=col>Resale_Value</th><th scope=col>Fuel_Type</th><th scope=col>Fuel_Efficiency</th><th scope=col>Color</th><th scope=col>Maintenance</th><th scope=col>Test_drive</th><th scope=col>Product_reviews</th><th scope=col>Testimonials</th></tr>\n",
              "\t<tr><th scope=col>&lt;dbl&gt;</th><th scope=col>&lt;dbl&gt;</th><th scope=col>&lt;dbl&gt;</th><th scope=col>&lt;dbl&gt;</th><th scope=col>&lt;dbl&gt;</th><th scope=col>&lt;dbl&gt;</th><th scope=col>&lt;dbl&gt;</th><th scope=col>&lt;dbl&gt;</th><th scope=col>&lt;dbl&gt;</th><th scope=col>&lt;dbl&gt;</th><th scope=col>&lt;dbl&gt;</th><th scope=col>&lt;dbl&gt;</th><th scope=col>&lt;dbl&gt;</th><th scope=col>&lt;dbl&gt;</th></tr>\n",
              "</thead>\n",
              "<tbody>\n",
              "\t<tr><td>4</td><td>4</td><td>5</td><td>4</td><td>3</td><td>4</td><td>5</td><td>4</td><td>4</td><td>2</td><td>4</td><td>2</td><td>4</td><td>3</td></tr>\n",
              "\t<tr><td>3</td><td>5</td><td>3</td><td>3</td><td>4</td><td>4</td><td>3</td><td>4</td><td>3</td><td>4</td><td>3</td><td>2</td><td>2</td><td>2</td></tr>\n",
              "\t<tr><td>4</td><td>4</td><td>3</td><td>4</td><td>5</td><td>5</td><td>5</td><td>4</td><td>5</td><td>4</td><td>5</td><td>4</td><td>4</td><td>3</td></tr>\n",
              "\t<tr><td>4</td><td>4</td><td>4</td><td>3</td><td>3</td><td>4</td><td>5</td><td>5</td><td>4</td><td>4</td><td>4</td><td>2</td><td>5</td><td>3</td></tr>\n",
              "\t<tr><td>5</td><td>5</td><td>4</td><td>4</td><td>5</td><td>4</td><td>5</td><td>3</td><td>4</td><td>5</td><td>5</td><td>5</td><td>5</td><td>2</td></tr>\n",
              "\t<tr><td>4</td><td>4</td><td>5</td><td>3</td><td>4</td><td>5</td><td>3</td><td>4</td><td>3</td><td>2</td><td>3</td><td>2</td><td>2</td><td>3</td></tr>\n",
              "</tbody>\n",
              "</table>\n"
            ],
            "text/markdown": "\nA tibble: 6 × 14\n\n| Price &lt;dbl&gt; | Safety &lt;dbl&gt; | Exterior_Looks &lt;dbl&gt; | Space_comfort &lt;dbl&gt; | Technology &lt;dbl&gt; | After_Sales_Service &lt;dbl&gt; | Resale_Value &lt;dbl&gt; | Fuel_Type &lt;dbl&gt; | Fuel_Efficiency &lt;dbl&gt; | Color &lt;dbl&gt; | Maintenance &lt;dbl&gt; | Test_drive &lt;dbl&gt; | Product_reviews &lt;dbl&gt; | Testimonials &lt;dbl&gt; |\n|---|---|---|---|---|---|---|---|---|---|---|---|---|---|\n| 4 | 4 | 5 | 4 | 3 | 4 | 5 | 4 | 4 | 2 | 4 | 2 | 4 | 3 |\n| 3 | 5 | 3 | 3 | 4 | 4 | 3 | 4 | 3 | 4 | 3 | 2 | 2 | 2 |\n| 4 | 4 | 3 | 4 | 5 | 5 | 5 | 4 | 5 | 4 | 5 | 4 | 4 | 3 |\n| 4 | 4 | 4 | 3 | 3 | 4 | 5 | 5 | 4 | 4 | 4 | 2 | 5 | 3 |\n| 5 | 5 | 4 | 4 | 5 | 4 | 5 | 3 | 4 | 5 | 5 | 5 | 5 | 2 |\n| 4 | 4 | 5 | 3 | 4 | 5 | 3 | 4 | 3 | 2 | 3 | 2 | 2 | 3 |\n\n",
            "text/latex": "A tibble: 6 × 14\n\\begin{tabular}{llllllllllllll}\n Price & Safety & Exterior\\_Looks & Space\\_comfort & Technology & After\\_Sales\\_Service & Resale\\_Value & Fuel\\_Type & Fuel\\_Efficiency & Color & Maintenance & Test\\_drive & Product\\_reviews & Testimonials\\\\\n <dbl> & <dbl> & <dbl> & <dbl> & <dbl> & <dbl> & <dbl> & <dbl> & <dbl> & <dbl> & <dbl> & <dbl> & <dbl> & <dbl>\\\\\n\\hline\n\t 4 & 4 & 5 & 4 & 3 & 4 & 5 & 4 & 4 & 2 & 4 & 2 & 4 & 3\\\\\n\t 3 & 5 & 3 & 3 & 4 & 4 & 3 & 4 & 3 & 4 & 3 & 2 & 2 & 2\\\\\n\t 4 & 4 & 3 & 4 & 5 & 5 & 5 & 4 & 5 & 4 & 5 & 4 & 4 & 3\\\\\n\t 4 & 4 & 4 & 3 & 3 & 4 & 5 & 5 & 4 & 4 & 4 & 2 & 5 & 3\\\\\n\t 5 & 5 & 4 & 4 & 5 & 4 & 5 & 3 & 4 & 5 & 5 & 5 & 5 & 2\\\\\n\t 4 & 4 & 5 & 3 & 4 & 5 & 3 & 4 & 3 & 2 & 3 & 2 & 2 & 3\\\\\n\\end{tabular}\n",
            "text/plain": [
              "  Price Safety Exterior_Looks Space_comfort Technology After_Sales_Service\n",
              "1 4     4      5              4             3          4                  \n",
              "2 3     5      3              3             4          4                  \n",
              "3 4     4      3              4             5          5                  \n",
              "4 4     4      4              3             3          4                  \n",
              "5 5     5      4              4             5          4                  \n",
              "6 4     4      5              3             4          5                  \n",
              "  Resale_Value Fuel_Type Fuel_Efficiency Color Maintenance Test_drive\n",
              "1 5            4         4               2     4           2         \n",
              "2 3            4         3               4     3           2         \n",
              "3 5            4         5               4     5           4         \n",
              "4 5            5         4               4     4           2         \n",
              "5 5            3         4               5     5           5         \n",
              "6 3            4         3               2     3           2         \n",
              "  Product_reviews Testimonials\n",
              "1 4               3           \n",
              "2 2               2           \n",
              "3 4               3           \n",
              "4 5               3           \n",
              "5 5               2           \n",
              "6 2               3           "
            ]
          },
          "metadata": {}
        }
      ]
    },
    {
      "cell_type": "markdown",
      "source": [
        "##Kaiser-Meyer-Olkin (KMO)"
      ],
      "metadata": {
        "id": "9Zfc6EVZbS0G"
      }
    },
    {
      "cell_type": "code",
      "source": [
        "datcorr = cor(EFA)\n",
        "datKMO = KMO(datcorr)\n",
        "print(datKMO)\n",
        "print(datKMO$MSA)"
      ],
      "metadata": {
        "colab": {
          "base_uri": "https://localhost:8080/"
        },
        "id": "glyPx46dbOlc",
        "outputId": "492e2346-b392-4d3e-a495-5a9b92dc512a"
      },
      "execution_count": 22,
      "outputs": [
        {
          "output_type": "stream",
          "name": "stdout",
          "text": [
            "Kaiser-Meyer-Olkin factor adequacy\n",
            "Call: KMO(r = datcorr)\n",
            "Overall MSA =  0.61\n",
            "MSA for each item = \n",
            "              Price              Safety      Exterior_Looks       Space_comfort \n",
            "               0.72                0.47                0.55                0.61 \n",
            "         Technology After_Sales_Service        Resale_Value           Fuel_Type \n",
            "               0.65                0.62                0.63                0.68 \n",
            "    Fuel_Efficiency               Color         Maintenance          Test_drive \n",
            "               0.62                0.56                0.61                0.64 \n",
            "    Product_reviews        Testimonials \n",
            "               0.69                0.50 \n",
            "[1] 0.614451\n"
          ]
        }
      ]
    },
    {
      "cell_type": "markdown",
      "source": [
        "##Bartlett’s Sphericity"
      ],
      "metadata": {
        "id": "kExVtqe0buUm"
      }
    },
    {
      "cell_type": "markdown",
      "source": [
        "    H0 : variable no corelation (independent)\n",
        "    H1 : variable corelation (dependent)"
      ],
      "metadata": {
        "id": "znO1KXC4b2hF"
      }
    },
    {
      "cell_type": "code",
      "source": [
        "datcorr = cor(EFA)\n",
        "datKMO =KMO(datcorr)\n",
        "n=90\n",
        "datBart=cortest.bartlett(datcorr,n) #Bartlett’s Sphericity\n",
        "print(datBart$p.value)"
      ],
      "metadata": {
        "colab": {
          "base_uri": "https://localhost:8080/"
        },
        "id": "L9kXCd6zboB8",
        "outputId": "9700ba9c-9406-4b90-a348-28f5939dfb27"
      },
      "execution_count": 23,
      "outputs": [
        {
          "output_type": "stream",
          "name": "stdout",
          "text": [
            "[1] 1.930071e-16\n"
          ]
        }
      ]
    },
    {
      "cell_type": "markdown",
      "source": [
        "    p-value less than alpha is 0.05. Therefore reject H0"
      ],
      "metadata": {
        "id": "eLmsqsrGb-IA"
      }
    },
    {
      "cell_type": "markdown",
      "source": [
        "#2) Determine the number of factors"
      ],
      "metadata": {
        "id": "EQqBwWQqclvZ"
      }
    },
    {
      "cell_type": "code",
      "source": [
        "datEig = eigen(datcorr)\n",
        "print(datEig$values)"
      ],
      "metadata": {
        "colab": {
          "base_uri": "https://localhost:8080/"
        },
        "id": "2TAtT2j-bxVe",
        "outputId": "3b49492a-8107-407b-9e00-da11996748fc"
      },
      "execution_count": 24,
      "outputs": [
        {
          "output_type": "stream",
          "name": "stdout",
          "text": [
            " [1] 2.7550607 2.1640701 1.4645469 1.3299030 1.0402907 0.9919870 0.8063453\n",
            " [8] 0.6810294 0.6013657 0.5536899 0.5136469 0.4665307 0.3566072 0.2749266\n"
          ]
        }
      ]
    },
    {
      "cell_type": "code",
      "source": [
        "datEigmean = mean(datEig$values)\n",
        "print(datEigmean)"
      ],
      "metadata": {
        "colab": {
          "base_uri": "https://localhost:8080/"
        },
        "id": "g_gSpgXvc5OG",
        "outputId": "9ab786d4-28e2-4587-b305-e49749ca325a"
      },
      "execution_count": 25,
      "outputs": [
        {
          "output_type": "stream",
          "name": "stdout",
          "text": [
            "[1] 1\n"
          ]
        }
      ]
    },
    {
      "cell_type": "markdown",
      "source": [
        "#3) Extract Factors  "
      ],
      "metadata": {
        "id": "GnfeHUtYd3Gu"
      }
    },
    {
      "cell_type": "markdown",
      "source": [
        "##Extract Factors by principal component method"
      ],
      "metadata": {
        "id": "NqaJAHzGfbef"
      }
    },
    {
      "cell_type": "code",
      "source": [
        "datFa_p = principal(datcorr,nfactors=4,rotate=\"none\")\n",
        "print(datFa_p)"
      ],
      "metadata": {
        "colab": {
          "base_uri": "https://localhost:8080/"
        },
        "id": "UXwiXifndDBW",
        "outputId": "817e10af-5932-4f04-e5fa-fb040c3a5719"
      },
      "execution_count": 27,
      "outputs": [
        {
          "output_type": "stream",
          "name": "stdout",
          "text": [
            "Principal Components Analysis\n",
            "Call: principal(r = datcorr, nfactors = 4, rotate = \"none\")\n",
            "Standardized loadings (pattern matrix) based upon correlation matrix\n",
            "                      PC1   PC2   PC3   PC4   h2   u2 com\n",
            "Price                0.50 -0.22 -0.33  0.36 0.54 0.46 3.1\n",
            "Safety              -0.11  0.44 -0.31 -0.43 0.49 0.51 2.9\n",
            "Exterior_Looks      -0.07  0.36  0.11  0.74 0.69 0.31 1.5\n",
            "Space_comfort        0.36  0.72 -0.14  0.08 0.68 0.32 1.6\n",
            "Technology           0.31  0.37 -0.12 -0.07 0.26 0.74 2.3\n",
            "After_Sales_Service  0.52  0.38 -0.19 -0.23 0.51 0.49 2.6\n",
            "Resale_Value         0.44 -0.56 -0.29  0.24 0.65 0.35 2.9\n",
            "Fuel_Type            0.32  0.52 -0.37 -0.02 0.51 0.49 2.5\n",
            "Fuel_Efficiency      0.74 -0.11  0.09 -0.12 0.59 0.41 1.1\n",
            "Color                0.46 -0.33  0.29 -0.54 0.69 0.31 3.2\n",
            "Maintenance          0.66 -0.35 -0.09  0.04 0.56 0.44 1.6\n",
            "Test_drive           0.38  0.24  0.46  0.10 0.42 0.58 2.6\n",
            "Product_reviews      0.59  0.04  0.29  0.19 0.47 0.53 1.7\n",
            "Testimonials         0.12  0.31  0.75 -0.01 0.67 0.33 1.4\n",
            "\n",
            "                       PC1  PC2  PC3  PC4\n",
            "SS loadings           2.76 2.16 1.46 1.33\n",
            "Proportion Var        0.20 0.15 0.10 0.09\n",
            "Cumulative Var        0.20 0.35 0.46 0.55\n",
            "Proportion Explained  0.36 0.28 0.19 0.17\n",
            "Cumulative Proportion 0.36 0.64 0.83 1.00\n",
            "\n",
            "Mean item complexity =  2.2\n",
            "Test of the hypothesis that 4 components are sufficient.\n",
            "\n",
            "The root mean square of the residuals (RMSR) is  0.09 \n",
            "\n",
            "Fit based upon off diagonal values = 0.78"
          ]
        }
      ]
    },
    {
      "cell_type": "markdown",
      "source": [
        "## Extract Factors by principal factor method"
      ],
      "metadata": {
        "id": "a8lwZHFIzAmy"
      }
    },
    {
      "cell_type": "code",
      "source": [
        "datFa_f = fa(datcorr,nfactors=4,rotate=\"none\",fm = 'pa')\n",
        "print(datFa_f)"
      ],
      "metadata": {
        "colab": {
          "base_uri": "https://localhost:8080/"
        },
        "id": "ffW9Hx_3y8UX",
        "outputId": "24c12611-ddf6-48ba-c9f5-3d3e27425649"
      },
      "execution_count": 28,
      "outputs": [
        {
          "output_type": "stream",
          "name": "stdout",
          "text": [
            "Factor Analysis using method =  pa\n",
            "Call: fa(r = datcorr, nfactors = 4, rotate = \"none\", fm = \"pa\")\n",
            "Standardized loadings (pattern matrix) based upon correlation matrix\n",
            "                      PA1   PA2   PA3   PA4   h2   u2 com\n",
            "Price                0.43 -0.14 -0.27  0.16 0.30 0.70 2.3\n",
            "Safety              -0.10  0.32 -0.11 -0.33 0.23 0.77 2.4\n",
            "Exterior_Looks      -0.08  0.29 -0.10  0.49 0.34 0.66 1.8\n",
            "Space_comfort        0.33  0.73 -0.15 -0.01 0.67 0.33 1.5\n",
            "Technology           0.23  0.27 -0.04 -0.08 0.13 0.87 2.2\n",
            "After_Sales_Service  0.43  0.31 -0.10 -0.19 0.33 0.67 2.4\n",
            "Resale_Value         0.44 -0.50 -0.32  0.16 0.57 0.43 3.0\n",
            "Fuel_Type            0.26  0.43 -0.22 -0.13 0.32 0.68 2.5\n",
            "Fuel_Efficiency      0.68 -0.06  0.08 -0.03 0.47 0.53 1.1\n",
            "Color                0.46 -0.29  0.42 -0.35 0.60 0.40 3.6\n",
            "Maintenance          0.60 -0.27 -0.08  0.02 0.44 0.56 1.4\n",
            "Test_drive           0.30  0.19  0.21  0.17 0.20 0.80 3.3\n",
            "Product_reviews      0.49  0.07  0.16  0.21 0.32 0.68 1.6\n",
            "Testimonials         0.10  0.29  0.60  0.22 0.51 0.49 1.8\n",
            "\n",
            "                       PA1  PA2  PA3  PA4\n",
            "SS loadings           2.17 1.63 0.91 0.71\n",
            "Proportion Var        0.16 0.12 0.06 0.05\n",
            "Cumulative Var        0.16 0.27 0.34 0.39\n",
            "Proportion Explained  0.40 0.30 0.17 0.13\n",
            "Cumulative Proportion 0.40 0.70 0.87 1.00\n",
            "\n",
            "Mean item complexity =  2.2\n",
            "Test of the hypothesis that 4 factors are sufficient.\n",
            "\n",
            "df null model =  91  with the objective function =  2.97\n",
            "df of  the model are 41  and the objective function was  0.57 \n",
            "\n",
            "The root mean square of the residuals (RMSR) is  0.05 \n",
            "The df corrected root mean square of the residuals is  0.07 \n",
            "\n",
            "Fit based upon off diagonal values = 0.94\n",
            "Measures of factor score adequacy             \n",
            "                                                  PA1  PA2  PA3  PA4\n",
            "Correlation of (regression) scores with factors   0.9 0.88 0.80 0.74\n",
            "Multiple R square of scores with factors          0.8 0.78 0.65 0.55\n",
            "Minimum correlation of possible factor scores     0.6 0.56 0.29 0.09\n"
          ]
        }
      ]
    },
    {
      "cell_type": "markdown",
      "source": [
        "##Extract Factors by Maximum likelihood method"
      ],
      "metadata": {
        "id": "Uq_mgNgDz04E"
      }
    },
    {
      "cell_type": "code",
      "source": [
        "datFa_m = fa(datcorr,nfactors=4,rotate=\"none\",fm = 'ml')\n",
        "print(datFa_m)"
      ],
      "metadata": {
        "colab": {
          "base_uri": "https://localhost:8080/"
        },
        "id": "NkiOCxkHzyPV",
        "outputId": "aab24dec-1d6d-4895-e174-07068985a0ae"
      },
      "execution_count": 29,
      "outputs": [
        {
          "output_type": "stream",
          "name": "stdout",
          "text": [
            "Factor Analysis using method =  ml\n",
            "Call: fa(r = datcorr, nfactors = 4, rotate = \"none\", fm = \"ml\")\n",
            "Standardized loadings (pattern matrix) based upon correlation matrix\n",
            "                      ML2   ML1   ML3   ML4   h2   u2 com\n",
            "Price                0.17  0.15  0.49  0.00 0.29 0.71 1.5\n",
            "Safety               0.21 -0.11 -0.21 -0.33 0.21 0.79 2.8\n",
            "Exterior_Looks       0.18 -0.34  0.04  0.26 0.21 0.79 2.5\n",
            "Space_comfort        0.82 -0.14 -0.05 -0.10 0.71 0.29 1.1\n",
            "Technology           0.35  0.07 -0.01 -0.09 0.13 0.87 1.2\n",
            "After_Sales_Service  0.45  0.13  0.15 -0.11 0.25 0.75 1.5\n",
            "Resale_Value        -0.15  0.23  0.73  0.03 0.61 0.39 1.3\n",
            "Fuel_Type            0.53 -0.04  0.04 -0.23 0.34 0.66 1.4\n",
            "Fuel_Efficiency      0.30  0.44  0.35  0.14 0.42 0.58 3.0\n",
            "Color               -0.01  0.94 -0.13 -0.04 0.90 0.10 1.0\n",
            "Maintenance          0.14  0.46  0.46 -0.01 0.45 0.55 2.2\n",
            "Test_drive           0.30  0.11  0.04  0.32 0.21 0.79 2.3\n",
            "Product_reviews      0.36  0.26  0.19  0.31 0.33 0.67 3.4\n",
            "Testimonials         0.26  0.14 -0.36  0.53 0.49 0.51 2.4\n",
            "\n",
            "                       ML2  ML1  ML3  ML4\n",
            "SS loadings           1.80 1.63 1.36 0.77\n",
            "Proportion Var        0.13 0.12 0.10 0.05\n",
            "Cumulative Var        0.13 0.24 0.34 0.40\n",
            "Proportion Explained  0.32 0.29 0.25 0.14\n",
            "Cumulative Proportion 0.32 0.62 0.86 1.00\n",
            "\n",
            "Mean item complexity =  2\n",
            "Test of the hypothesis that 4 factors are sufficient.\n",
            "\n",
            "df null model =  91  with the objective function =  2.97\n",
            "df of  the model are 41  and the objective function was  0.55 \n",
            "\n",
            "The root mean square of the residuals (RMSR) is  0.05 \n",
            "The df corrected root mean square of the residuals is  0.08 \n",
            "\n",
            "Fit based upon off diagonal values = 0.93\n",
            "Measures of factor score adequacy             \n",
            "                                                   ML2  ML1  ML3  ML4\n",
            "Correlation of (regression) scores with factors   0.89 0.95 0.86 0.75\n",
            "Multiple R square of scores with factors          0.80 0.91 0.74 0.56\n",
            "Minimum correlation of possible factor scores     0.60 0.82 0.49 0.11\n"
          ]
        }
      ]
    },
    {
      "cell_type": "markdown",
      "source": [
        "##Rotation by vairmax methond\n",
        "\n",
        "    fa(r,nfactors = #factors , rotate= Rorationtyp, fm = method)"
      ],
      "metadata": {
        "id": "sBVojGCTz8Aa"
      }
    },
    {
      "cell_type": "code",
      "source": [
        "datFa_p = principal(datcorr,nfactors=4,rotate=\"varimax\")\n",
        "print(datFa_p)"
      ],
      "metadata": {
        "colab": {
          "base_uri": "https://localhost:8080/"
        },
        "id": "pfPwEyglz4f3",
        "outputId": "3f885803-e232-4ebe-dc2f-f356d9159fca"
      },
      "execution_count": 30,
      "outputs": [
        {
          "output_type": "stream",
          "name": "stdout",
          "text": [
            "Principal Components Analysis\n",
            "Call: principal(r = datcorr, nfactors = 4, rotate = \"varimax\")\n",
            "Standardized loadings (pattern matrix) based upon correlation matrix\n",
            "                      RC1   RC2   RC3   RC4   h2   u2 com\n",
            "Price                0.71  0.13 -0.05 -0.13 0.54 0.46 1.2\n",
            "Safety              -0.37  0.50 -0.27  0.15 0.49 0.51 2.7\n",
            "Exterior_Looks       0.03  0.05  0.27 -0.78 0.69 0.31 1.2\n",
            "Space_comfort       -0.03  0.76  0.23 -0.24 0.68 0.32 1.4\n",
            "Technology           0.04  0.49  0.11  0.01 0.26 0.74 1.1\n",
            "After_Sales_Service  0.14  0.66  0.12  0.20 0.51 0.49 1.4\n",
            "Resale_Value         0.78 -0.14 -0.14  0.08 0.65 0.35 1.2\n",
            "Fuel_Type            0.07  0.70 -0.05 -0.11 0.51 0.49 1.1\n",
            "Fuel_Efficiency      0.51  0.24  0.36  0.37 0.59 0.41 3.2\n",
            "Color                0.19 -0.05  0.28  0.76 0.69 0.31 1.4\n",
            "Maintenance          0.68  0.08  0.13  0.27 0.56 0.44 1.4\n",
            "Test_drive           0.05  0.15  0.63 -0.01 0.42 0.58 1.1\n",
            "Product_reviews      0.38  0.14  0.55  0.02 0.47 0.53 2.0\n",
            "Testimonials        -0.30 -0.03  0.76  0.01 0.67 0.33 1.3\n",
            "\n",
            "                       RC1  RC2  RC3  RC4\n",
            "SS loadings           2.27 2.13 1.76 1.56\n",
            "Proportion Var        0.16 0.15 0.13 0.11\n",
            "Cumulative Var        0.16 0.31 0.44 0.55\n",
            "Proportion Explained  0.29 0.28 0.23 0.20\n",
            "Cumulative Proportion 0.29 0.57 0.80 1.00\n",
            "\n",
            "Mean item complexity =  1.5\n",
            "Test of the hypothesis that 4 components are sufficient.\n",
            "\n",
            "The root mean square of the residuals (RMSR) is  0.09 \n",
            "\n",
            "Fit based upon off diagonal values = 0.78"
          ]
        }
      ]
    }
  ]
}