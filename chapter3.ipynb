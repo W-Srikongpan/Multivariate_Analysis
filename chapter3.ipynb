{
  "nbformat": 4,
  "nbformat_minor": 0,
  "metadata": {
    "colab": {
      "provenance": [],
      "toc_visible": true,
      "authorship_tag": "ABX9TyPCR+xzeDoGmSzcD+tVqPMh",
      "include_colab_link": true
    },
    "kernelspec": {
      "name": "ir",
      "display_name": "R"
    },
    "language_info": {
      "name": "R"
    }
  },
  "cells": [
    {
      "cell_type": "markdown",
      "metadata": {
        "id": "view-in-github",
        "colab_type": "text"
      },
      "source": [
        "<a href=\"https://colab.research.google.com/github/W-Srikongpan/Multivariate_Analysis/blob/main/chapter3.ipynb\" target=\"_parent\"><img src=\"https://colab.research.google.com/assets/colab-badge.svg\" alt=\"Open In Colab\"/></a>"
      ]
    },
    {
      "cell_type": "markdown",
      "source": [
        "#1) The Plausibility of as a Value for a Normal"
      ],
      "metadata": {
        "id": "GCVCdS2umiK8"
      }
    },
    {
      "cell_type": "markdown",
      "source": [
        "A single sample with several variable measure on each sampling unite"
      ],
      "metadata": {
        "id": "7WkoN6u2kK-n"
      }
    },
    {
      "cell_type": "markdown",
      "source": [
        "##Example 1\n",
        "\n",
        "    H0 : mu == matrix(c(4,50,10),3,1)\n",
        "    H1 : mu != matrix(c(4,50,10),3,1)  "
      ],
      "metadata": {
        "id": "njtWC6KNo1FK"
      }
    },
    {
      "cell_type": "markdown",
      "source": [
        "Let parameter"
      ],
      "metadata": {
        "id": "eRcUi6R49dFh"
      }
    },
    {
      "cell_type": "code",
      "source": [
        "n = 20\n",
        "p = 3\n",
        "alpha = 0.05"
      ],
      "metadata": {
        "id": "rOYTcUBU9cLF"
      },
      "execution_count": 177,
      "outputs": []
    },
    {
      "cell_type": "code",
      "execution_count": 178,
      "metadata": {
        "colab": {
          "base_uri": "https://localhost:8080/"
        },
        "id": "L5c9NWikldJO",
        "outputId": "bb2296c6-1718-43cf-863b-fb680248c85d"
      },
      "outputs": [
        {
          "output_type": "stream",
          "name": "stdout",
          "text": [
            "       [,1]\n",
            "[1,]  4.640\n",
            "[2,] 45.400\n",
            "[3,]  9.965\n"
          ]
        }
      ],
      "source": [
        "Xbar = matrix(c(4.64,45.4,9.965),3,1)\n",
        "print(Xbar)"
      ]
    },
    {
      "cell_type": "code",
      "source": [
        "S=matrix(c(2.879,10.01,-1.81,10.01,199.788,-5.64,-1.81,-5.64,3.628),3,3)\n",
        "print(S)"
      ],
      "metadata": {
        "colab": {
          "base_uri": "https://localhost:8080/"
        },
        "id": "hPL39tXhmrOZ",
        "outputId": "b787d9ff-72a8-4bf2-9d85-5d4b145dbb01"
      },
      "execution_count": 179,
      "outputs": [
        {
          "output_type": "stream",
          "name": "stdout",
          "text": [
            "       [,1]    [,2]   [,3]\n",
            "[1,]  2.879  10.010 -1.810\n",
            "[2,] 10.010 199.788 -5.640\n",
            "[3,] -1.810  -5.640  3.628\n"
          ]
        }
      ]
    },
    {
      "cell_type": "code",
      "source": [
        "mu=matrix(c(4,50,10),3,1)\n",
        "print(mu)"
      ],
      "metadata": {
        "colab": {
          "base_uri": "https://localhost:8080/"
        },
        "id": "loJV6wUFmtqV",
        "outputId": "726a3374-ad90-4157-8b14-7779c51f206f"
      },
      "execution_count": 180,
      "outputs": [
        {
          "output_type": "stream",
          "name": "stdout",
          "text": [
            "     [,1]\n",
            "[1,]    4\n",
            "[2,]   50\n",
            "[3,]   10\n"
          ]
        }
      ]
    },
    {
      "cell_type": "code",
      "source": [
        "T2 = n*t(Xbar-mu)%*%solve(S)%*%(Xbar-mu)\n",
        "paste(\"Hotelling’s T2 is:\",T2)"
      ],
      "metadata": {
        "colab": {
          "base_uri": "https://localhost:8080/",
          "height": 34
        },
        "id": "ZwLX1HyVnJ74",
        "outputId": "cc5d4a16-5f7a-415c-adfe-ab44eb9f3585"
      },
      "execution_count": 181,
      "outputs": [
        {
          "output_type": "display_data",
          "data": {
            "text/html": [
              "'Hotelling’s T2 is: 9.74303756432536'"
            ],
            "text/markdown": "'Hotelling’s T2 is: 9.74303756432536'",
            "text/latex": "'Hotelling’s T2 is: 9.74303756432536'",
            "text/plain": [
              "[1] \"Hotelling’s T2 is: 9.74303756432536\""
            ]
          },
          "metadata": {}
        }
      ]
    },
    {
      "cell_type": "code",
      "source": [
        "T2_cri=(((n-1)*p)/(n-p))*qf(alpha,p,n-p,lower.tail = FALSE)\n",
        "paste(\"Critical value: \",T2_cri)"
      ],
      "metadata": {
        "colab": {
          "base_uri": "https://localhost:8080/",
          "height": 34
        },
        "id": "igrU-Mcyni9Y",
        "outputId": "4180c715-3e55-459f-891f-a363baaa53ae"
      },
      "execution_count": 182,
      "outputs": [
        {
          "output_type": "display_data",
          "data": {
            "text/html": [
              "<span style=white-space:pre-wrap>'Critical value:  10.7186047019865'</span>"
            ],
            "text/markdown": "<span style=white-space:pre-wrap>'Critical value:  10.7186047019865'</span>",
            "text/latex": "'Critical value:  10.7186047019865'",
            "text/plain": [
              "[1] \"Critical value:  10.7186047019865\""
            ]
          },
          "metadata": {}
        }
      ]
    },
    {
      "cell_type": "markdown",
      "source": [
        "    T2 is 9.74303756432536 less than T2_cri is 10.7186047019865.\n",
        "    Therefore we do not reject H0 at level of significance alpha = 0.05  "
      ],
      "metadata": {
        "id": "uAxc45MbpK2A"
      }
    },
    {
      "cell_type": "markdown",
      "source": [
        "##Example 2\n",
        "\n",
        "    H0 : mu == matrix(c(9,5),2,1)\n",
        "    H1 : mu != matrix(c(9,5),2,1)"
      ],
      "metadata": {
        "id": "CV3RQ_EHp1k3"
      }
    },
    {
      "cell_type": "markdown",
      "source": [
        "Let parameter"
      ],
      "metadata": {
        "id": "T8aa2LRQ9PfY"
      }
    },
    {
      "cell_type": "code",
      "source": [
        "n = 3\n",
        "p = 2\n",
        "alpha = 0.05"
      ],
      "metadata": {
        "id": "aRsfj_Tm9KE8"
      },
      "execution_count": 183,
      "outputs": []
    },
    {
      "cell_type": "code",
      "source": [
        "mu = matrix(c(9,5),2,1)\n",
        "print(mu)"
      ],
      "metadata": {
        "colab": {
          "base_uri": "https://localhost:8080/"
        },
        "id": "xMiKAx8NoSs7",
        "outputId": "b8e4bbdb-47f5-4611-8672-1196d3105100"
      },
      "execution_count": 184,
      "outputs": [
        {
          "output_type": "stream",
          "name": "stdout",
          "text": [
            "     [,1]\n",
            "[1,]    9\n",
            "[2,]    5\n"
          ]
        }
      ]
    },
    {
      "cell_type": "code",
      "source": [
        "X = matrix(c(6,10,8,9,6,3),3,2)\n",
        "print(X)"
      ],
      "metadata": {
        "colab": {
          "base_uri": "https://localhost:8080/"
        },
        "id": "qs37ozFOqGsT",
        "outputId": "a5da19dd-af74-442d-f79d-45d283a6f9f7"
      },
      "execution_count": 185,
      "outputs": [
        {
          "output_type": "stream",
          "name": "stdout",
          "text": [
            "     [,1] [,2]\n",
            "[1,]    6    9\n",
            "[2,]   10    6\n",
            "[3,]    8    3\n"
          ]
        }
      ]
    },
    {
      "cell_type": "code",
      "source": [
        "X = matrix(c(6,10,8,9,6,3),3,2)\n",
        "print(X)"
      ],
      "metadata": {
        "colab": {
          "base_uri": "https://localhost:8080/"
        },
        "id": "VwKrrM8QqIj4",
        "outputId": "2ec128e5-eb20-4173-94e2-ce7d51a5d40b"
      },
      "execution_count": 186,
      "outputs": [
        {
          "output_type": "stream",
          "name": "stdout",
          "text": [
            "     [,1] [,2]\n",
            "[1,]    6    9\n",
            "[2,]   10    6\n",
            "[3,]    8    3\n"
          ]
        }
      ]
    },
    {
      "cell_type": "code",
      "source": [
        "Xbar = colMeans(X)\n",
        "print(Xbar)"
      ],
      "metadata": {
        "colab": {
          "base_uri": "https://localhost:8080/"
        },
        "id": "qReK9NnCqNVn",
        "outputId": "6dd234b5-bb68-4b84-ce3f-13f3791823e0"
      },
      "execution_count": 187,
      "outputs": [
        {
          "output_type": "stream",
          "name": "stdout",
          "text": [
            "[1] 8 6\n"
          ]
        }
      ]
    },
    {
      "cell_type": "code",
      "source": [
        "Xbar = matrix(Xbar,2,1) # Change Xbar into vector form.\n",
        "print(Xbar)"
      ],
      "metadata": {
        "colab": {
          "base_uri": "https://localhost:8080/"
        },
        "id": "lYcmW4wjqNry",
        "outputId": "428e8c08-dd28-4b1b-dc34-e20dc80eb65c"
      },
      "execution_count": 188,
      "outputs": [
        {
          "output_type": "stream",
          "name": "stdout",
          "text": [
            "     [,1]\n",
            "[1,]    8\n",
            "[2,]    6\n"
          ]
        }
      ]
    },
    {
      "cell_type": "code",
      "source": [
        "S = cov(X)\n",
        "print(S)"
      ],
      "metadata": {
        "colab": {
          "base_uri": "https://localhost:8080/"
        },
        "id": "RYZ0dpIaqZ86",
        "outputId": "9a383184-86ec-4896-ffb0-3ac6c39b20cc"
      },
      "execution_count": 189,
      "outputs": [
        {
          "output_type": "stream",
          "name": "stdout",
          "text": [
            "     [,1] [,2]\n",
            "[1,]    4   -3\n",
            "[2,]   -3    9\n"
          ]
        }
      ]
    },
    {
      "cell_type": "code",
      "source": [
        "T2 = n*t(Xbar-mu)%*%solve(S)%*%(Xbar-mu)\n",
        "paste(\"Hotelling’s T2:\",T2)"
      ],
      "metadata": {
        "colab": {
          "base_uri": "https://localhost:8080/",
          "height": 34
        },
        "id": "hXqM_BdZqdQS",
        "outputId": "dd3eb9f0-1d57-4da0-bf1d-1956123f51b1"
      },
      "execution_count": 190,
      "outputs": [
        {
          "output_type": "display_data",
          "data": {
            "text/html": [
              "'Hotelling’s T2: 0.777777777777778'"
            ],
            "text/markdown": "'Hotelling’s T2: 0.777777777777778'",
            "text/latex": "'Hotelling’s T2: 0.777777777777778'",
            "text/plain": [
              "[1] \"Hotelling’s T2: 0.777777777777778\""
            ]
          },
          "metadata": {}
        }
      ]
    },
    {
      "cell_type": "code",
      "source": [
        "Cri_val = (((n-1)*p)/(n-p))*qf(alpha,p,n-p,lower.tail = FALSE)\n",
        "paste(\"Critical value: \",Cri_val)"
      ],
      "metadata": {
        "colab": {
          "base_uri": "https://localhost:8080/",
          "height": 34
        },
        "id": "PrUQBFIdqjmK",
        "outputId": "a6ac7888-f887-47aa-e261-07badcce9321"
      },
      "execution_count": 191,
      "outputs": [
        {
          "output_type": "display_data",
          "data": {
            "text/html": [
              "<span style=white-space:pre-wrap>'Critical value:  798'</span>"
            ],
            "text/markdown": "<span style=white-space:pre-wrap>'Critical value:  798'</span>",
            "text/latex": "'Critical value:  798'",
            "text/plain": [
              "[1] \"Critical value:  798\""
            ]
          },
          "metadata": {}
        }
      ]
    },
    {
      "cell_type": "markdown",
      "source": [
        "    T2 is 0.777777777777778 less than T2_cri is 798.\n",
        "    Therefore we do not reject H0 at level of significance alpha = 0.05"
      ],
      "metadata": {
        "id": "K7z5YuUOrO5q"
      }
    },
    {
      "cell_type": "markdown",
      "source": [
        "#2) Confidence Regions and Simultaneous Comparisons of Component Means"
      ],
      "metadata": {
        "id": "q-LGS_-3rqa2"
      }
    },
    {
      "cell_type": "markdown",
      "source": [
        "##Example 3\n"
      ],
      "metadata": {
        "id": "NdcZNc9z7N5m"
      }
    },
    {
      "cell_type": "markdown",
      "source": [
        "Let parameter"
      ],
      "metadata": {
        "id": "cLvZqLxJ87xv"
      }
    },
    {
      "cell_type": "code",
      "source": [
        "n = 20\n",
        "p = 3\n",
        "alpha = 0.05"
      ],
      "metadata": {
        "id": "r4bI-zId86GF"
      },
      "execution_count": 192,
      "outputs": []
    },
    {
      "cell_type": "code",
      "source": [
        "Xbar = matrix(c(4.64,45.4,9.965),3,1)\n",
        "print(Xbar)"
      ],
      "metadata": {
        "id": "Z3mj9ZIDrAVP",
        "colab": {
          "base_uri": "https://localhost:8080/"
        },
        "outputId": "b77685c3-d461-46af-99d6-c31bd889d7e6"
      },
      "execution_count": 193,
      "outputs": [
        {
          "output_type": "stream",
          "name": "stdout",
          "text": [
            "       [,1]\n",
            "[1,]  4.640\n",
            "[2,] 45.400\n",
            "[3,]  9.965\n"
          ]
        }
      ]
    },
    {
      "cell_type": "code",
      "source": [
        "S = matrix(c(2.879,10.01,-1.81,10.01,199.788,-5.64,-1.81,-5.64,3.628),3,3)\n",
        "print(S)"
      ],
      "metadata": {
        "colab": {
          "base_uri": "https://localhost:8080/"
        },
        "id": "XfEU66dD7cLG",
        "outputId": "d5acac0c-834c-4889-f8d6-f7373f76c2a2"
      },
      "execution_count": 194,
      "outputs": [
        {
          "output_type": "stream",
          "name": "stdout",
          "text": [
            "       [,1]    [,2]   [,3]\n",
            "[1,]  2.879  10.010 -1.810\n",
            "[2,] 10.010 199.788 -5.640\n",
            "[3,] -1.810  -5.640  3.628\n"
          ]
        }
      ]
    },
    {
      "cell_type": "markdown",
      "source": [
        "1) The Lower bound and The Upper bound for X1 and S11  "
      ],
      "metadata": {
        "id": "0hJTKBNn-mur"
      }
    },
    {
      "cell_type": "code",
      "source": [
        "L1 = Xbar[1,1]-(sqrt(((n-1)*p)/(n-p)*qf(1-alpha , p , n-p))*sqrt(S[1,1]/n))\n",
        "U1 = Xbar[1,1]+(sqrt(((n-1)*p)/(n-p)*qf(1-alpha , p , n-p))*sqrt(S[1,1]/n))\n",
        "paste(\"The lower bound L1: \",L1, \"/ The upper bound U1: \",U1)"
      ],
      "metadata": {
        "colab": {
          "base_uri": "https://localhost:8080/",
          "height": 34
        },
        "id": "i6ZlfUyT7rgy",
        "outputId": "52fcd1a6-58f0-4cf0-f829-98bdf59a30da"
      },
      "execution_count": 195,
      "outputs": [
        {
          "output_type": "display_data",
          "data": {
            "text/html": [
              "<span style=white-space:pre-wrap>'The lower bound L1:  3.39784737376965 / The upper bound U1:  5.88215262623035'</span>"
            ],
            "text/markdown": "<span style=white-space:pre-wrap>'The lower bound L1:  3.39784737376965 / The upper bound U1:  5.88215262623035'</span>",
            "text/latex": "'The lower bound L1:  3.39784737376965 / The upper bound U1:  5.88215262623035'",
            "text/plain": [
              "[1] \"The lower bound L1:  3.39784737376965 / The upper bound U1:  5.88215262623035\""
            ]
          },
          "metadata": {}
        }
      ]
    },
    {
      "cell_type": "markdown",
      "source": [
        "2) The Lower bound and The Upper bound for X2 and S22   "
      ],
      "metadata": {
        "id": "UCLAfRMy_QqP"
      }
    },
    {
      "cell_type": "code",
      "source": [
        "L2 = Xbar[2,1]-(sqrt(((n-1)*p)/(n-p)*qf(1-alpha , p , n-p))*sqrt(S[2,2]/n))\n",
        "U2 = Xbar[2,1]+(sqrt(((n-1)*p)/(n-p)*qf(1-alpha , p , n-p))*sqrt(S[2,2]/n))\n",
        "paste(\"The lower bound L2: \",L2, \"/ The upper bound U2: \",U2)"
      ],
      "metadata": {
        "colab": {
          "base_uri": "https://localhost:8080/",
          "height": 34
        },
        "id": "UnZZrSiQ9Fci",
        "outputId": "401e0fb0-e599-46ed-ed03-2dbb8bc7e75c"
      },
      "execution_count": 196,
      "outputs": [
        {
          "output_type": "display_data",
          "data": {
            "text/html": [
              "<span style=white-space:pre-wrap>'The lower bound L2:  35.0524191324724 / The upper bound U2:  55.7475808675276'</span>"
            ],
            "text/markdown": "<span style=white-space:pre-wrap>'The lower bound L2:  35.0524191324724 / The upper bound U2:  55.7475808675276'</span>",
            "text/latex": "'The lower bound L2:  35.0524191324724 / The upper bound U2:  55.7475808675276'",
            "text/plain": [
              "[1] \"The lower bound L2:  35.0524191324724 / The upper bound U2:  55.7475808675276\""
            ]
          },
          "metadata": {}
        }
      ]
    },
    {
      "cell_type": "markdown",
      "source": [
        "3) The Lower bound and The Upper bound for X3 and S33   "
      ],
      "metadata": {
        "id": "ad2dLFIzFK9o"
      }
    },
    {
      "cell_type": "code",
      "source": [
        "L3 = Xbar[3,1]-(sqrt(((n-1)*p)/(n-p)*qf(1-alpha , p , n-p))*sqrt(S[3,3]/n))\n",
        "U3 = Xbar[3,1]+(sqrt(((n-1)*p)/(n-p)*qf(1-alpha , p , n-p))*sqrt(S[3,3]/n))\n",
        "paste(\"The lower bound L3: \",L3, \"/ The upper bound U3: \",U3)"
      ],
      "metadata": {
        "colab": {
          "base_uri": "https://localhost:8080/",
          "height": 34
        },
        "id": "EKj7SQi__m-N",
        "outputId": "7d17cb00-65cb-4624-d0de-735eb45a6c41"
      },
      "execution_count": 197,
      "outputs": [
        {
          "output_type": "display_data",
          "data": {
            "text/html": [
              "<span style=white-space:pre-wrap>'The lower bound L3:  8.57059873316884 / The upper bound U3:  11.3594012668312'</span>"
            ],
            "text/markdown": "<span style=white-space:pre-wrap>'The lower bound L3:  8.57059873316884 / The upper bound U3:  11.3594012668312'</span>",
            "text/latex": "'The lower bound L3:  8.57059873316884 / The upper bound U3:  11.3594012668312'",
            "text/plain": [
              "[1] \"The lower bound L3:  8.57059873316884 / The upper bound U3:  11.3594012668312\""
            ]
          },
          "metadata": {}
        }
      ]
    },
    {
      "cell_type": "markdown",
      "source": [
        "##Example 4\n",
        "    \n",
        "    We shall obtain the simultaneous 95% Bonferroni confidence intervals for the means."
      ],
      "metadata": {
        "id": "D_cqeufLFXCY"
      }
    },
    {
      "cell_type": "markdown",
      "source": [
        "1) The Lower bound and The Upper bound for X1 and S11  "
      ],
      "metadata": {
        "id": "uD00Nv66ICjs"
      }
    },
    {
      "cell_type": "code",
      "source": [
        "L1 = Xbar[1,1]-((qt(1-(alpha / (2*p)),n-1))*sqrt(S[1,1]/n))\n",
        "U1 = Xbar[1,1]+((qt(1-(alpha / (2*p)),n-1))*sqrt(S[1,1]/n))\n",
        "paste(\"The lower bound L1: \",L1, \"/ The upper bound U1: \",U1)"
      ],
      "metadata": {
        "colab": {
          "base_uri": "https://localhost:8080/",
          "height": 34
        },
        "id": "mRvfU0v0FIjA",
        "outputId": "9fbae164-9b12-4276-a6cc-655a6e8766c0"
      },
      "execution_count": 198,
      "outputs": [
        {
          "output_type": "display_data",
          "data": {
            "text/html": [
              "<span style=white-space:pre-wrap>'The lower bound L1:  3.64401530485706 / The upper bound U1:  5.63598469514294'</span>"
            ],
            "text/markdown": "<span style=white-space:pre-wrap>'The lower bound L1:  3.64401530485706 / The upper bound U1:  5.63598469514294'</span>",
            "text/latex": "'The lower bound L1:  3.64401530485706 / The upper bound U1:  5.63598469514294'",
            "text/plain": [
              "[1] \"The lower bound L1:  3.64401530485706 / The upper bound U1:  5.63598469514294\""
            ]
          },
          "metadata": {}
        }
      ]
    },
    {
      "cell_type": "markdown",
      "source": [
        "2) The Lower bound and The Upper bound for X2 and S22   "
      ],
      "metadata": {
        "id": "fBbZ0tDDIEdy"
      }
    },
    {
      "cell_type": "code",
      "source": [
        "L2 = Xbar[2,1]-((qt(1-(alpha / (2*p)),n-1))*sqrt(S[2,2]/n))\n",
        "U2 = Xbar[2,1]+((qt(1-(alpha / (2*p)),n-1))*sqrt(S[2,2]/n))\n",
        "paste(\"The lower bound L2: \",L2, \"/ The upper bound U2: \",U2)"
      ],
      "metadata": {
        "colab": {
          "base_uri": "https://localhost:8080/",
          "height": 34
        },
        "id": "Psz35QqKHCvH",
        "outputId": "4310d3a7-391f-4799-f3c1-b0cef6f83c71"
      },
      "execution_count": 199,
      "outputs": [
        {
          "output_type": "display_data",
          "data": {
            "text/html": [
              "<span style=white-space:pre-wrap>'The lower bound L2:  37.1030870778836 / The upper bound U2:  53.6969129221164'</span>"
            ],
            "text/markdown": "<span style=white-space:pre-wrap>'The lower bound L2:  37.1030870778836 / The upper bound U2:  53.6969129221164'</span>",
            "text/latex": "'The lower bound L2:  37.1030870778836 / The upper bound U2:  53.6969129221164'",
            "text/plain": [
              "[1] \"The lower bound L2:  37.1030870778836 / The upper bound U2:  53.6969129221164\""
            ]
          },
          "metadata": {}
        }
      ]
    },
    {
      "cell_type": "markdown",
      "source": [
        "3) The Lower bound and The Upper bound for X3 and S33"
      ],
      "metadata": {
        "id": "5KJvksb6IGrV"
      }
    },
    {
      "cell_type": "code",
      "source": [
        "L3 = Xbar[3,1]-((qt(1-(alpha / (2*p)),n-1))*sqrt(S[3,3]/n))\n",
        "U3 = Xbar[3,1]+((qt(1-(alpha / (2*p)),n-1))*sqrt(S[3,3]/n))\n",
        "paste(\"The lower bound L3: \",L3, \"/ The upper bound U3: \",U3)"
      ],
      "metadata": {
        "colab": {
          "base_uri": "https://localhost:8080/",
          "height": 34
        },
        "id": "zdRFqx1tHIdJ",
        "outputId": "c311768e-8833-4957-eda2-513147d1cef6"
      },
      "execution_count": 200,
      "outputs": [
        {
          "output_type": "display_data",
          "data": {
            "text/html": [
              "<span style=white-space:pre-wrap>'The lower bound L3:  8.84693906986578 / The upper bound U3:  11.0830609301342'</span>"
            ],
            "text/markdown": "<span style=white-space:pre-wrap>'The lower bound L3:  8.84693906986578 / The upper bound U3:  11.0830609301342'</span>",
            "text/latex": "'The lower bound L3:  8.84693906986578 / The upper bound U3:  11.0830609301342'",
            "text/plain": [
              "[1] \"The lower bound L3:  8.84693906986578 / The upper bound U3:  11.0830609301342\""
            ]
          },
          "metadata": {}
        }
      ]
    },
    {
      "cell_type": "markdown",
      "source": [
        "#3) Comparing Mean Vectors from Two Populations"
      ],
      "metadata": {
        "id": "I-QOiDvzjuD6"
      }
    },
    {
      "cell_type": "markdown",
      "source": [
        "Two samples with several variables measured on each unit"
      ],
      "metadata": {
        "id": "z8-86_c3kWlG"
      }
    },
    {
      "cell_type": "markdown",
      "source": [
        "##Example 5"
      ],
      "metadata": {
        "id": "Ms6550JskrvW"
      }
    },
    {
      "cell_type": "markdown",
      "source": [
        "Let parameter"
      ],
      "metadata": {
        "id": "1xRh_y7HlzvI"
      }
    },
    {
      "cell_type": "code",
      "source": [
        "n1 = 50\n",
        "n2 = 50\n",
        "p = 2\n",
        "alpha = 0.05"
      ],
      "metadata": {
        "id": "lNHaHlfvllGX"
      },
      "execution_count": 201,
      "outputs": []
    },
    {
      "cell_type": "code",
      "source": [
        "s1 = matrix(c(2,1,1,6),2,2)\n",
        "print(s1)"
      ],
      "metadata": {
        "colab": {
          "base_uri": "https://localhost:8080/"
        },
        "id": "fzrunmQ-IOcu",
        "outputId": "09f8c10e-5171-4c4a-e73e-fbc8750727cc"
      },
      "execution_count": 202,
      "outputs": [
        {
          "output_type": "stream",
          "name": "stdout",
          "text": [
            "     [,1] [,2]\n",
            "[1,]    2    1\n",
            "[2,]    1    6\n"
          ]
        }
      ]
    },
    {
      "cell_type": "code",
      "source": [
        "s2 = matrix(c(2,1,1,4),2,2)\n",
        "print(s2)"
      ],
      "metadata": {
        "colab": {
          "base_uri": "https://localhost:8080/"
        },
        "id": "lScf2wlckl6v",
        "outputId": "71ddacdd-3282-41ab-8be6-df7f32fb8e44"
      },
      "execution_count": 203,
      "outputs": [
        {
          "output_type": "stream",
          "name": "stdout",
          "text": [
            "     [,1] [,2]\n",
            "[1,]    2    1\n",
            "[2,]    1    4\n"
          ]
        }
      ]
    },
    {
      "cell_type": "code",
      "source": [
        "sp = (((n1-1)/(n1+n2-2))*s1)+(((n2-1)/(n1+n2-2))*s2)\n",
        "print(sp)"
      ],
      "metadata": {
        "colab": {
          "base_uri": "https://localhost:8080/"
        },
        "id": "TqcNqPqvkpYe",
        "outputId": "33d8b5df-de62-47b5-9eb2-833cfdd17a0e"
      },
      "execution_count": 204,
      "outputs": [
        {
          "output_type": "stream",
          "name": "stdout",
          "text": [
            "     [,1] [,2]\n",
            "[1,]    2    1\n",
            "[2,]    1    5\n"
          ]
        }
      ]
    },
    {
      "cell_type": "code",
      "source": [
        "xbar1 = matrix(c(8.3,4.1),2,1)\n",
        "print(xbar1)"
      ],
      "metadata": {
        "colab": {
          "base_uri": "https://localhost:8080/"
        },
        "id": "_3hfEJUekzV5",
        "outputId": "fe6824be-d1e0-4db7-c42f-55f90b4dab97"
      },
      "execution_count": 205,
      "outputs": [
        {
          "output_type": "stream",
          "name": "stdout",
          "text": [
            "     [,1]\n",
            "[1,]  8.3\n",
            "[2,]  4.1\n"
          ]
        }
      ]
    },
    {
      "cell_type": "code",
      "source": [
        "xbar2 = matrix(c(10.2,3.9),2,1)\n",
        "print(xbar2)"
      ],
      "metadata": {
        "colab": {
          "base_uri": "https://localhost:8080/"
        },
        "id": "ZZGCM1H4k4fa",
        "outputId": "b6a95efd-6864-4ef5-e358-df5e5bb29007"
      },
      "execution_count": 206,
      "outputs": [
        {
          "output_type": "stream",
          "name": "stdout",
          "text": [
            "     [,1]\n",
            "[1,] 10.2\n",
            "[2,]  3.9\n"
          ]
        }
      ]
    },
    {
      "cell_type": "code",
      "source": [
        "t2 = t(xbar1-xbar2)%*%solve(((1/n1)+(1/n2))*sp)%*%(xbar1-xbar2)\n",
        "paste(\"The T2 value: \",t2)"
      ],
      "metadata": {
        "colab": {
          "base_uri": "https://localhost:8080/",
          "height": 34
        },
        "id": "RAh_vfOGk8CT",
        "outputId": "8186c1fc-3c09-45a9-93ac-751b111a65ce"
      },
      "execution_count": 207,
      "outputs": [
        {
          "output_type": "display_data",
          "data": {
            "text/html": [
              "<span style=white-space:pre-wrap>'The T2 value:  52.4722222222221'</span>"
            ],
            "text/markdown": "<span style=white-space:pre-wrap>'The T2 value:  52.4722222222221'</span>",
            "text/latex": "'The T2 value:  52.4722222222221'",
            "text/plain": [
              "[1] \"The T2 value:  52.4722222222221\""
            ]
          },
          "metadata": {}
        }
      ]
    },
    {
      "cell_type": "code",
      "source": [
        "cri_val = ((n1+n2-2)*p)/(n1+n2-p-1)*qf(1-alpha,p,n1+n2-p-1)\n",
        "paste(\"The critical value: \",cri_val)"
      ],
      "metadata": {
        "colab": {
          "base_uri": "https://localhost:8080/",
          "height": 34
        },
        "id": "_SC9_U-ClEGS",
        "outputId": "47c32058-4969-48ec-9850-a393c2e6e212"
      },
      "execution_count": 208,
      "outputs": [
        {
          "output_type": "display_data",
          "data": {
            "text/html": [
              "<span style=white-space:pre-wrap>'The critical value:  6.24408853948819'</span>"
            ],
            "text/markdown": "<span style=white-space:pre-wrap>'The critical value:  6.24408853948819'</span>",
            "text/latex": "'The critical value:  6.24408853948819'",
            "text/plain": [
              "[1] \"The critical value:  6.24408853948819\""
            ]
          },
          "metadata": {}
        }
      ]
    },
    {
      "cell_type": "markdown",
      "source": [
        "    T2 is 2.47222 greater than Critical Value is 6.244089. Then reject H0 at level of significance alpha is 0.05"
      ],
      "metadata": {
        "id": "dwCbusGBl922"
      }
    },
    {
      "cell_type": "markdown",
      "source": [
        "## Example 6"
      ],
      "metadata": {
        "id": "zKxZfeMOm4Ai"
      }
    },
    {
      "cell_type": "markdown",
      "source": [
        "Simultaneous confidence intervals"
      ],
      "metadata": {
        "id": "v3nW5ilym2Qy"
      }
    },
    {
      "cell_type": "markdown",
      "source": [
        "1) The Lower bound and The Upper bound for Xbar[1,1] and Sp[1,1]  "
      ],
      "metadata": {
        "id": "Zy-ZoScsusav"
      }
    },
    {
      "cell_type": "code",
      "source": [
        "L1 = (xbar1[1,1]-xbar2[1,1])-(sqrt(cri_val)*sqrt(((1/n1)+(1/n2))*sp[1,1]))\n",
        "U1 = (xbar1[1,1]-xbar2[1,1])+(sqrt(cri_val)*sqrt(((1/n1)+(1/n2))*sp[1,1]))\n",
        "paste(\"The lower bound L1: \",L1, \"/ The upper bound U1: \",U1)"
      ],
      "metadata": {
        "colab": {
          "base_uri": "https://localhost:8080/",
          "height": 34
        },
        "id": "ly5TV8YInNf-",
        "outputId": "885b1330-ca73-49b0-b493-64c4d26571f6"
      },
      "execution_count": 209,
      "outputs": [
        {
          "output_type": "display_data",
          "data": {
            "text/html": [
              "<span style=white-space:pre-wrap>'The lower bound L1:  -2.60677229937162 / The upper bound U1:  -1.19322770062837'</span>"
            ],
            "text/markdown": "<span style=white-space:pre-wrap>'The lower bound L1:  -2.60677229937162 / The upper bound U1:  -1.19322770062837'</span>",
            "text/latex": "'The lower bound L1:  -2.60677229937162 / The upper bound U1:  -1.19322770062837'",
            "text/plain": [
              "[1] \"The lower bound L1:  -2.60677229937162 / The upper bound U1:  -1.19322770062837\""
            ]
          },
          "metadata": {}
        }
      ]
    },
    {
      "cell_type": "markdown",
      "source": [
        "2) The Lower bound and The Upper bound for Xbar[2,1] and Sp[2,2]"
      ],
      "metadata": {
        "id": "ICsrzUHyusUW"
      }
    },
    {
      "cell_type": "code",
      "source": [
        "L2 = (xbar1[2,1]-xbar2[2,1])-(sqrt(cri_val)*sqrt(((1/n1)+(1/n2))*sp[2,2]))\n",
        "U2 = (xbar1[2,1]-xbar2[2,1])+(sqrt(cri_val)*sqrt(((1/n1)+(1/n2))*sp[2,2]))\n",
        "paste(\"The lower bound L2: \",L2, \"/ The upper bound U2: \",U2)"
      ],
      "metadata": {
        "colab": {
          "base_uri": "https://localhost:8080/",
          "height": 34
        },
        "id": "S_3jKmofoP7H",
        "outputId": "1986d43a-db38-4321-dc90-2d5b76e36d4f"
      },
      "execution_count": 210,
      "outputs": [
        {
          "output_type": "display_data",
          "data": {
            "text/html": [
              "<span style=white-space:pre-wrap>'The lower bound L2:  -0.917505126564365 / The upper bound U2:  1.31750512656436'</span>"
            ],
            "text/markdown": "<span style=white-space:pre-wrap>'The lower bound L2:  -0.917505126564365 / The upper bound U2:  1.31750512656436'</span>",
            "text/latex": "'The lower bound L2:  -0.917505126564365 / The upper bound U2:  1.31750512656436'",
            "text/plain": [
              "[1] \"The lower bound L2:  -0.917505126564365 / The upper bound U2:  1.31750512656436\""
            ]
          },
          "metadata": {}
        }
      ]
    },
    {
      "cell_type": "markdown",
      "source": [
        "## Example 7"
      ],
      "metadata": {
        "id": "6tvDeTU-vBSU"
      }
    },
    {
      "cell_type": "markdown",
      "source": [
        "    The Bonferroni 100(1-0.05)% simultaneous confidence intervals for the differences in the mean component"
      ],
      "metadata": {
        "id": "gkGiUqCDwGAI"
      }
    },
    {
      "cell_type": "code",
      "source": [
        "qt(1-(alpha/(2*p)),n1+n2-2)"
      ],
      "metadata": {
        "colab": {
          "base_uri": "https://localhost:8080/",
          "height": 34
        },
        "id": "WE_gHkGFpDhF",
        "outputId": "dca07f43-1fc9-42b9-c8e1-6d0d8375cbb6"
      },
      "execution_count": 211,
      "outputs": [
        {
          "output_type": "display_data",
          "data": {
            "text/html": [
              "2.27636180744527"
            ],
            "text/markdown": "2.27636180744527",
            "text/latex": "2.27636180744527",
            "text/plain": [
              "[1] 2.276362"
            ]
          },
          "metadata": {}
        }
      ]
    },
    {
      "cell_type": "markdown",
      "source": [
        "    The Bonferroni 95% simultaneous confidence intervals for the population difference are"
      ],
      "metadata": {
        "id": "j90lMt2NwbjU"
      }
    },
    {
      "cell_type": "markdown",
      "source": [
        "1) The Lower bound and The Upper bound for Xbar[1,1] and Sp[1,1]"
      ],
      "metadata": {
        "id": "jK9lLFdMv_MM"
      }
    },
    {
      "cell_type": "code",
      "source": [
        "L1 = (xbar1[1,1]-xbar2[1,1])-(qt(1-(alpha/(2*p)),n1+n2-2)*sqrt(((1/n1)+(1/n2))*sp[1,1]))\n",
        "U1 = (xbar1[1,1]-xbar2[1,1])+(qt(1-(alpha/(2*p)),n1+n2-2)*sqrt(((1/n1)+(1/n2))*sp[1,1]))\n",
        "paste(\"The lower bound L1: \",L1, \"/ The upper bound U1: \",U1)"
      ],
      "metadata": {
        "colab": {
          "base_uri": "https://localhost:8080/",
          "height": 34
        },
        "id": "t4biWWBvvkWA",
        "outputId": "0c7b4ccd-4dce-4157-e5d3-58e4f2a0b37e"
      },
      "execution_count": 212,
      "outputs": [
        {
          "output_type": "display_data",
          "data": {
            "text/html": [
              "<span style=white-space:pre-wrap>'The lower bound L1:  -2.54385234819145 / The upper bound U1:  -1.25614765180855'</span>"
            ],
            "text/markdown": "<span style=white-space:pre-wrap>'The lower bound L1:  -2.54385234819145 / The upper bound U1:  -1.25614765180855'</span>",
            "text/latex": "'The lower bound L1:  -2.54385234819145 / The upper bound U1:  -1.25614765180855'",
            "text/plain": [
              "[1] \"The lower bound L1:  -2.54385234819145 / The upper bound U1:  -1.25614765180855\""
            ]
          },
          "metadata": {}
        }
      ]
    },
    {
      "cell_type": "markdown",
      "source": [
        "2) The Lower bound and The Upper bound for Xbar[2,1] and Sp[2,2]"
      ],
      "metadata": {
        "id": "Z8uBfvUiwjcR"
      }
    },
    {
      "cell_type": "code",
      "source": [
        "L2 = (xbar1[2,1]-xbar2[2,1])-(qt(1-(alpha/(2*p)),n1+n2-2)*sqrt(((1/n1)+(1/n2))*sp[2,2]))\n",
        "U2 = (xbar1[2,1]-xbar2[2,1])+(qt(1-(alpha/(2*p)),n1+n2-2)*sqrt(((1/n1)+(1/n2))*sp[2,2]))\n",
        "paste(\"The lower bound L2: \",L2, \"/ The upper bound U2: \",U2)"
      ],
      "metadata": {
        "colab": {
          "base_uri": "https://localhost:8080/",
          "height": 34
        },
        "id": "GA63cguSv2BT",
        "outputId": "8ed588bc-f863-44ec-ee59-0e78c6a43949"
      },
      "execution_count": 213,
      "outputs": [
        {
          "output_type": "display_data",
          "data": {
            "text/html": [
              "<span style=white-space:pre-wrap>'The lower bound L2:  -0.818019948566383 / The upper bound U2:  1.21801994856638'</span>"
            ],
            "text/markdown": "<span style=white-space:pre-wrap>'The lower bound L2:  -0.818019948566383 / The upper bound U2:  1.21801994856638'</span>",
            "text/latex": "'The lower bound L2:  -0.818019948566383 / The upper bound U2:  1.21801994856638'",
            "text/plain": [
              "[1] \"The lower bound L2:  -0.818019948566383 / The upper bound U2:  1.21801994856638\""
            ]
          },
          "metadata": {}
        }
      ]
    },
    {
      "cell_type": "markdown",
      "source": [
        "    We conclude that there is a difference in lather and mildness of soap between the manufactured in each of two ways."
      ],
      "metadata": {
        "id": "QtA9Z7iEwraR"
      }
    },
    {
      "cell_type": "markdown",
      "source": [
        "##Example 8"
      ],
      "metadata": {
        "id": "TQfBUt7exDEx"
      }
    },
    {
      "cell_type": "markdown",
      "source": [
        "The two-sample situation when Σ1 ≠ Σ2"
      ],
      "metadata": {
        "id": "IGCxzuYYw6eH"
      }
    },
    {
      "cell_type": "code",
      "source": [
        "n1 = 45\n",
        "n2 = 55"
      ],
      "metadata": {
        "id": "PLizjaB7yX11"
      },
      "execution_count": 214,
      "outputs": []
    },
    {
      "cell_type": "code",
      "source": [
        "S1 = matrix(c(13825.3,23823.4,23823.4,73107.4),2,2)\n",
        "print(S1)"
      ],
      "metadata": {
        "colab": {
          "base_uri": "https://localhost:8080/"
        },
        "id": "s4qEX-l5wmq-",
        "outputId": "9834ce40-a2dc-4baa-d8ae-f232d11a454c"
      },
      "execution_count": 215,
      "outputs": [
        {
          "output_type": "stream",
          "name": "stdout",
          "text": [
            "        [,1]    [,2]\n",
            "[1,] 13825.3 23823.4\n",
            "[2,] 23823.4 73107.4\n"
          ]
        }
      ]
    },
    {
      "cell_type": "code",
      "source": [
        "S2 = matrix(c(8632.0,19616.7,19616.7,55964.5),2,2)\n",
        "print(S2)"
      ],
      "metadata": {
        "colab": {
          "base_uri": "https://localhost:8080/"
        },
        "id": "kt8B1oy5xx35",
        "outputId": "c8a0f10f-d0fd-4a22-a3e2-a39351ed0956"
      },
      "execution_count": 216,
      "outputs": [
        {
          "output_type": "stream",
          "name": "stdout",
          "text": [
            "        [,1]    [,2]\n",
            "[1,]  8632.0 19616.7\n",
            "[2,] 19616.7 55964.5\n"
          ]
        }
      ]
    },
    {
      "cell_type": "code",
      "source": [
        "S = (1/n1)*S1 + (1/n2)*S2\n",
        "print(S)"
      ],
      "metadata": {
        "colab": {
          "base_uri": "https://localhost:8080/"
        },
        "id": "StWkdy5CyUg_",
        "outputId": "a3df4c03-338e-4b5e-9368-ae62f1867f8e"
      },
      "execution_count": 217,
      "outputs": [
        {
          "output_type": "stream",
          "name": "stdout",
          "text": [
            "         [,1]      [,2]\n",
            "[1,] 464.1743  886.0762\n",
            "[2,] 886.0762 2642.1453\n"
          ]
        }
      ]
    },
    {
      "cell_type": "code",
      "source": [
        "Xbar1 = matrix(c(204.4,556.6),2,1)\n",
        "Xbar2 = matrix(c(130.0,355.0),2,1)\n",
        "t(Xbar1-Xbar2)%*%solve(S)%*%(Xbar1-Xbar2)"
      ],
      "metadata": {
        "colab": {
          "base_uri": "https://localhost:8080/",
          "height": 99
        },
        "id": "qUMHOZXbylNT",
        "outputId": "3d9a433e-bdd6-464e-f75c-cd966b083f28"
      },
      "execution_count": 218,
      "outputs": [
        {
          "output_type": "display_data",
          "data": {
            "text/html": [
              "<table class=\"dataframe\">\n",
              "<caption>A matrix: 1 × 1 of type dbl</caption>\n",
              "<tbody>\n",
              "\t<tr><td>15.65853</td></tr>\n",
              "</tbody>\n",
              "</table>\n"
            ],
            "text/markdown": "\nA matrix: 1 × 1 of type dbl\n\n| 15.65853 |\n\n",
            "text/latex": "A matrix: 1 × 1 of type dbl\n\\begin{tabular}{l}\n\t 15.65853\\\\\n\\end{tabular}\n",
            "text/plain": [
              "     [,1]    \n",
              "[1,] 15.65853"
            ]
          },
          "metadata": {}
        }
      ]
    },
    {
      "cell_type": "code",
      "source": [
        "qchisq(1-alpha,p)"
      ],
      "metadata": {
        "colab": {
          "base_uri": "https://localhost:8080/",
          "height": 34
        },
        "id": "eUK5n17zzE7X",
        "outputId": "cbfbe0ee-cddb-4d2f-cd22-8b778eb87152"
      },
      "execution_count": 219,
      "outputs": [
        {
          "output_type": "display_data",
          "data": {
            "text/html": [
              "5.99146454710798"
            ],
            "text/markdown": "5.99146454710798",
            "text/latex": "5.99146454710798",
            "text/plain": [
              "[1] 5.991465"
            ]
          },
          "metadata": {}
        }
      ]
    },
    {
      "cell_type": "markdown",
      "source": [
        "    15.65853 greater than 5.991465. Then  we reject H0 at level of significance alpha is 0.05\n",
        "\n"
      ],
      "metadata": {
        "id": "bcLoGb83zfye"
      }
    },
    {
      "cell_type": "markdown",
      "source": [
        "#4) Testing of Equality of Covariance Matrices"
      ],
      "metadata": {
        "id": "y32Oq-vk0GGm"
      }
    },
    {
      "cell_type": "markdown",
      "source": [
        "##Example 10"
      ],
      "metadata": {
        "id": "-_174Cc35Pcg"
      }
    },
    {
      "cell_type": "code",
      "source": [
        "n1 = 50\n",
        "n2 = 50\n",
        "g = 2\n",
        "p = 2"
      ],
      "metadata": {
        "id": "t5eGxbE86_HF"
      },
      "execution_count": 220,
      "outputs": []
    },
    {
      "cell_type": "code",
      "source": [
        "S1 = matrix(c(2,1,1,6),2,2)\n",
        "S2 = matrix(c(2,1,1,4),2,2)\n",
        "Sp = ((n1-1)*S1+(n2-1)*S2)/(n1+n2-2)\n",
        "lnM = ((1/2)*(((n1-1)*log(det(S1)))+(n2-1)*log(det(S2)))) - ((1/2)*(n1-1+n2-1)*log(det(Sp)))\n",
        "paste(\"lnM : \",lnM)"
      ],
      "metadata": {
        "colab": {
          "base_uri": "https://localhost:8080/",
          "height": 34
        },
        "id": "v6eS9iYw0FbL",
        "outputId": "c82f103c-b4c3-45af-acf1-544f20d0b9a1"
      },
      "execution_count": 221,
      "outputs": [
        {
          "output_type": "display_data",
          "data": {
            "text/html": [
              "<span style=white-space:pre-wrap>'lnM :  -1.2407714540595'</span>"
            ],
            "text/markdown": "<span style=white-space:pre-wrap>'lnM :  -1.2407714540595'</span>",
            "text/latex": "'lnM :  -1.2407714540595'",
            "text/plain": [
              "[1] \"lnM :  -1.2407714540595\""
            ]
          },
          "metadata": {}
        }
      ]
    },
    {
      "cell_type": "code",
      "source": [
        "c1 = ((1/(n1-1))+(1/(n2-1))-(1/(n1-1+n2-1)))*(((2*p^2)+3*p-1)/(6*(p+1)*(g-1)))\n",
        "paste(\"c1 : \",c1)"
      ],
      "metadata": {
        "colab": {
          "base_uri": "https://localhost:8080/",
          "height": 34
        },
        "id": "q_wdu3OGzeAB",
        "outputId": "2da6a892-055f-4568-943e-0893f38d70ca"
      },
      "execution_count": 222,
      "outputs": [
        {
          "output_type": "display_data",
          "data": {
            "text/html": [
              "<span style=white-space:pre-wrap>'c1 :  0.022108843537415'</span>"
            ],
            "text/markdown": "<span style=white-space:pre-wrap>'c1 :  0.022108843537415'</span>",
            "text/latex": "'c1 :  0.022108843537415'",
            "text/plain": [
              "[1] \"c1 :  0.022108843537415\""
            ]
          },
          "metadata": {}
        }
      ]
    },
    {
      "cell_type": "code",
      "source": [
        "U = -2*(1-c1)*lnM\n",
        "cri_val = qchisq(1-alpha,(1/2)*(g-1)*p*(p+1))"
      ],
      "metadata": {
        "id": "nOle8LT59zTa"
      },
      "execution_count": 223,
      "outputs": []
    },
    {
      "cell_type": "code",
      "source": [
        "if ( U < cri_val){\n",
        "    paste(\"Since U =\",U,\" < critical value = \",cri_val,\",then do not reject H0.\")\n",
        "} else if(U == cri_val){\n",
        "    paste(\"Since U =\",U,\" = critical value = \",cri_val,\",then do not reject H0.\")\n",
        "} else {\n",
        "    paste(\"Since U =\",U,\" > critical value = \",cri_val,\",then reject H0.\")\n",
        "}"
      ],
      "metadata": {
        "colab": {
          "base_uri": "https://localhost:8080/",
          "height": 34
        },
        "id": "dROihpwH_Sg6",
        "outputId": "0bf6b1af-7c51-4f7f-e598-d779e7fff8f7"
      },
      "execution_count": 224,
      "outputs": [
        {
          "output_type": "display_data",
          "data": {
            "text/html": [
              "<span style=white-space:pre-wrap>'Since U = 2.42667886423201  &lt; critical value =  7.81472790325118 ,then do not reject H0.'</span>"
            ],
            "text/markdown": "<span style=white-space:pre-wrap>'Since U = 2.42667886423201  &lt; critical value =  7.81472790325118 ,then do not reject H0.'</span>",
            "text/latex": "'Since U = 2.42667886423201  < critical value =  7.81472790325118 ,then do not reject H0.'",
            "text/plain": [
              "[1] \"Since U = 2.42667886423201  < critical value =  7.81472790325118 ,then do not reject H0.\""
            ]
          },
          "metadata": {}
        }
      ]
    },
    {
      "cell_type": "code",
      "source": [
        "c2 = (((1/(n1-1)^2)-(1/(n2-1)^2))-(1/((n1-1)+(n2-1))^2))*((p-1)*(p+2)/(6*(g-1)))\n",
        "a1 = (1/2)*(g-1)*p*(p+1)\n",
        "a2 = (a1+2)/abs(c2-c1^2)\n",
        "b1 = (1-c1-(a1/a2))/a1\n",
        "b2 = (1-c1+(2/a2))/a2\n",
        "\n",
        "if (c2 > c1^2){\n",
        "    F = -2*b1*lnM\n",
        "} else if(c2 < c1^2){\n",
        "    F = (-2*a2*b2*lnM)/(a1*(1+(2*b2*lnM)))\n",
        "} else {\n",
        "    F = NULL\n",
        "}\n",
        "\n",
        "cri_val = qf(1-alpha,a1,a2)\n",
        "\n",
        "if(is.null(F)==0){\n",
        "    if(F < cri_val){\n",
        "        paste(\"Since F =\",F,\" < critical value = \",cri_val,\",then do not reject H0.\")\n",
        "    } else if(F == cri_val){\n",
        "        paste(\"Since F =\",F,\" = critical value = \",cri_val,\",then do not reject H0.\")\n",
        "    } else {\n",
        "        paste(\"Since F =\",F,\" > critical value = \",cri_val,\",then reject H0.\")\n",
        "    }\n",
        "}else{\n",
        "    print(\"We cannot conclude the distribution of F.\")\n",
        "}"
      ],
      "metadata": {
        "colab": {
          "base_uri": "https://localhost:8080/",
          "height": 34
        },
        "id": "CVhIxwKp_cbT",
        "outputId": "4f07b6b7-fde1-4aa5-bcd8-9a5b608bd7e5"
      },
      "execution_count": 225,
      "outputs": [
        {
          "output_type": "display_data",
          "data": {
            "text/html": [
              "<span style=white-space:pre-wrap>'Since F = 0.809296959926695  &lt; critical value =  2.60590046202348 ,then do not reject H0.'</span>"
            ],
            "text/markdown": "<span style=white-space:pre-wrap>'Since F = 0.809296959926695  &lt; critical value =  2.60590046202348 ,then do not reject H0.'</span>",
            "text/latex": "'Since F = 0.809296959926695  < critical value =  2.60590046202348 ,then do not reject H0.'",
            "text/plain": [
              "[1] \"Since F = 0.809296959926695  < critical value =  2.60590046202348 ,then do not reject H0.\""
            ]
          },
          "metadata": {}
        }
      ]
    },
    {
      "cell_type": "markdown",
      "source": [
        "#5) Paired Comparison"
      ],
      "metadata": {
        "id": "McMaCfqHGTOB"
      }
    },
    {
      "cell_type": "markdown",
      "source": [
        "    A single sample with two sets of variables measured on each unit\n",
        "    "
      ],
      "metadata": {
        "id": "vwQt9pvDGXbl"
      }
    },
    {
      "cell_type": "markdown",
      "source": [
        "##Example 11"
      ],
      "metadata": {
        "id": "ho9GxxLSGzgr"
      }
    },
    {
      "cell_type": "code",
      "source": [
        "n = 11"
      ],
      "metadata": {
        "id": "2Kx1DIGRIE2i"
      },
      "execution_count": 226,
      "outputs": []
    },
    {
      "cell_type": "code",
      "source": [
        "X1 = matrix(c(6,6,18,8,11,34,28,71,43,33,20,27,23,64,44,30,75,26,124,54,30,14),11,2)\n",
        "X2 = matrix(c(25,28,36,35,15,44,42,54,34,29,39,15,13,22,29,31,64,30,64,56,20,21),11,2)\n",
        "d = X1-X2\n",
        "dmean = colMeans(d)\n",
        "dbar = matrix(c(dmean[1],dmean[2]),2,1)\n",
        "print(dbar)"
      ],
      "metadata": {
        "colab": {
          "base_uri": "https://localhost:8080/"
        },
        "id": "N8oIglpgF-Y0",
        "outputId": "9089842d-0432-4340-a3a5-e3fe86cf1bba"
      },
      "execution_count": 227,
      "outputs": [
        {
          "output_type": "stream",
          "name": "stdout",
          "text": [
            "          [,1]\n",
            "[1,] -9.363636\n",
            "[2,] 13.272727\n"
          ]
        }
      ]
    },
    {
      "cell_type": "code",
      "source": [
        "sd = cov(d)\n",
        "print(sd)"
      ],
      "metadata": {
        "colab": {
          "base_uri": "https://localhost:8080/"
        },
        "id": "KnQ4qH1wHWW3",
        "outputId": "ce309383-6e29-43ec-8139-3d10bd75ce8c"
      },
      "execution_count": 228,
      "outputs": [
        {
          "output_type": "stream",
          "name": "stdout",
          "text": [
            "          [,1]      [,2]\n",
            "[1,] 199.25455  88.30909\n",
            "[2,]  88.30909 418.61818\n"
          ]
        }
      ]
    },
    {
      "cell_type": "code",
      "source": [
        "T2 = n*t(dbar)%*%solve(sd)%*%dbar\n",
        "print(T2)"
      ],
      "metadata": {
        "colab": {
          "base_uri": "https://localhost:8080/"
        },
        "id": "b9hM9KaQH6u_",
        "outputId": "46c242d7-43bc-446c-fd70-af29b8c8ac7b"
      },
      "execution_count": 229,
      "outputs": [
        {
          "output_type": "stream",
          "name": "stdout",
          "text": [
            "         [,1]\n",
            "[1,] 13.63931\n"
          ]
        }
      ]
    },
    {
      "cell_type": "code",
      "source": [
        "((n-1)*p/(n-p))*qf(1-alpha,p,n-p)"
      ],
      "metadata": {
        "colab": {
          "base_uri": "https://localhost:8080/",
          "height": 34
        },
        "id": "jWMdAy6rIVKA",
        "outputId": "f821d2df-7c44-414b-d51a-117200c72218"
      },
      "execution_count": 230,
      "outputs": [
        {
          "output_type": "display_data",
          "data": {
            "text/html": [
              "9.45887717576388"
            ],
            "text/markdown": "9.45887717576388",
            "text/latex": "9.45887717576388",
            "text/plain": [
              "[1] 9.458877"
            ]
          },
          "metadata": {}
        }
      ]
    },
    {
      "cell_type": "markdown",
      "source": [
        "    T2 is 13.63913 greater than 9.458877.then reject H0 at level of significance alpha is 0.05. And conclude that there is a nonzero mean difference between the measurements of the two laboratories."
      ],
      "metadata": {
        "id": "nY9q7HPqIzRQ"
      }
    },
    {
      "cell_type": "markdown",
      "source": [
        "the 95% simultaneous confidence intervals for the mean differences mu(d1) and mu(d2)"
      ],
      "metadata": {
        "id": "uN4tNdpAJVgq"
      }
    },
    {
      "cell_type": "code",
      "source": [
        "L1 = dbar[1,1]-(sqrt(((n-1)*2/(n-p))*qf(1-alpha,p,n-p))*sqrt(sd[1,1]/n))\n",
        "U1 = dbar[1,1]+(sqrt(((n-1)*2/(n-p))*qf(1-alpha,p,n-p))*sqrt(sd[1,1]/n))\n",
        "paste(L1,\" <= mu_d1 <= \",U1)"
      ],
      "metadata": {
        "colab": {
          "base_uri": "https://localhost:8080/",
          "height": 34
        },
        "id": "PmCVf6QVJr9S",
        "outputId": "799eb4cb-477d-4c1f-8c7f-52b471cbb74e"
      },
      "execution_count": 231,
      "outputs": [
        {
          "output_type": "display_data",
          "data": {
            "text/html": [
              "<span style=white-space:pre-wrap>'-22.4532723477659  &lt;= mu_d1 &lt;=  3.72599962049317'</span>"
            ],
            "text/markdown": "<span style=white-space:pre-wrap>'-22.4532723477659  &lt;= mu_d1 &lt;=  3.72599962049317'</span>",
            "text/latex": "'-22.4532723477659  <= mu\\_d1 <=  3.72599962049317'",
            "text/plain": [
              "[1] \"-22.4532723477659  <= mu_d1 <=  3.72599962049317\""
            ]
          },
          "metadata": {}
        }
      ]
    },
    {
      "cell_type": "code",
      "source": [
        "L2 = dbar[2,1]-(sqrt(((n-1)*2/(n-p))*qf(1-alpha,p,n-p))*sqrt(sd[2,2]/n))\n",
        "U2 = dbar[2,1]+(sqrt(((n-1)*2/(n-p))*qf(1-alpha,p,n-p))*sqrt(sd[2,2]/n))\n",
        "paste(L2,\" <= mu_d1 <= \",U2)"
      ],
      "metadata": {
        "colab": {
          "base_uri": "https://localhost:8080/",
          "height": 34
        },
        "id": "pYbYRtiUKp9l",
        "outputId": "3a1730df-e7f7-4363-dc1a-d91120397dd7"
      },
      "execution_count": 232,
      "outputs": [
        {
          "output_type": "display_data",
          "data": {
            "text/html": [
              "<span style=white-space:pre-wrap>'-5.70011927020871  &lt;= mu_d1 &lt;=  32.2455738156633'</span>"
            ],
            "text/markdown": "<span style=white-space:pre-wrap>'-5.70011927020871  &lt;= mu_d1 &lt;=  32.2455738156633'</span>",
            "text/latex": "'-5.70011927020871  <= mu\\_d1 <=  32.2455738156633'",
            "text/plain": [
              "[1] \"-5.70011927020871  <= mu_d1 <=  32.2455738156633\""
            ]
          },
          "metadata": {}
        }
      ]
    },
    {
      "cell_type": "markdown",
      "source": [
        "The Bonferroni 100(1-0.05)% simultaneous confidence intervals for the individual mean\n",
        "difference"
      ],
      "metadata": {
        "id": "CcmtW3uaLKto"
      }
    },
    {
      "cell_type": "code",
      "source": [
        "L1 = dbar[1,1]-(qt(1-(alpha/(2*p)),n-1)*sqrt(sd[1,1]/n))\n",
        "U1 = dbar[1,1]+(qt(1-(alpha/(2*p)),n-1)*sqrt(sd[1,1]/n))\n",
        "paste(L1,\" <= mu_d1 <= \",U1)"
      ],
      "metadata": {
        "colab": {
          "base_uri": "https://localhost:8080/",
          "height": 34
        },
        "id": "2Huy9oN0LFR3",
        "outputId": "ecf299fe-df67-4729-831e-e2533bc49704"
      },
      "execution_count": 233,
      "outputs": [
        {
          "output_type": "display_data",
          "data": {
            "text/html": [
              "<span style=white-space:pre-wrap>'-20.5731072688261  &lt;= mu_d1 &lt;=  1.84583454155338'</span>"
            ],
            "text/markdown": "<span style=white-space:pre-wrap>'-20.5731072688261  &lt;= mu_d1 &lt;=  1.84583454155338'</span>",
            "text/latex": "'-20.5731072688261  <= mu\\_d1 <=  1.84583454155338'",
            "text/plain": [
              "[1] \"-20.5731072688261  <= mu_d1 <=  1.84583454155338\""
            ]
          },
          "metadata": {}
        }
      ]
    },
    {
      "cell_type": "code",
      "source": [
        "L2 = dbar[2,1]-(qt(1-(alpha/(2*p)),n-1)*sqrt(sd[2,2]/n))\n",
        "U2 = dbar[2,1]+(qt(1-(alpha/(2*p)),n-1)*sqrt(sd[2,2]/n))\n",
        "paste(L2,\" <= mu_d1 <= \",U2)"
      ],
      "metadata": {
        "colab": {
          "base_uri": "https://localhost:8080/",
          "height": 34
        },
        "id": "ggErkGYTLlua",
        "outputId": "f8e03a73-db82-4568-88e0-c90f4f0a58d6"
      },
      "execution_count": 234,
      "outputs": [
        {
          "output_type": "display_data",
          "data": {
            "text/html": [
              "<span style=white-space:pre-wrap>'-2.97490341536277  &lt;= mu_d1 &lt;=  29.5203579608173'</span>"
            ],
            "text/markdown": "<span style=white-space:pre-wrap>'-2.97490341536277  &lt;= mu_d1 &lt;=  29.5203579608173'</span>",
            "text/latex": "'-2.97490341536277  <= mu\\_d1 <=  29.5203579608173'",
            "text/plain": [
              "[1] \"-2.97490341536277  <= mu_d1 <=  29.5203579608173\""
            ]
          },
          "metadata": {}
        }
      ]
    }
  ]
}