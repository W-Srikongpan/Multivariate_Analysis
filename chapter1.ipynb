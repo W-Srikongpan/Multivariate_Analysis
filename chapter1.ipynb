{
  "nbformat": 4,
  "nbformat_minor": 0,
  "metadata": {
    "colab": {
      "provenance": [],
      "authorship_tag": "ABX9TyPISdwrympurdX8A4qiNSaZ",
      "include_colab_link": true
    },
    "kernelspec": {
      "name": "ir",
      "display_name": "R"
    },
    "language_info": {
      "name": "R"
    }
  },
  "cells": [
    {
      "cell_type": "markdown",
      "metadata": {
        "id": "view-in-github",
        "colab_type": "text"
      },
      "source": [
        "<a href=\"https://colab.research.google.com/github/W-Srikongpan/Multivariate_Analysis/blob/main/chapter1.ipynb\" target=\"_parent\"><img src=\"https://colab.research.google.com/assets/colab-badge.svg\" alt=\"Open In Colab\"/></a>"
      ]
    },
    {
      "cell_type": "markdown",
      "source": [
        "#install packages"
      ],
      "metadata": {
        "id": "ZPnCZt8CP_8a"
      }
    },
    {
      "cell_type": "code",
      "source": [
        "install.packages(\"dplyr\")\n",
        "install.packages(\"tidyvers\")"
      ],
      "metadata": {
        "colab": {
          "base_uri": "https://localhost:8080/"
        },
        "id": "eG-ulrJSPIE_",
        "outputId": "395c45ec-16de-49b8-f918-7572f532c593"
      },
      "execution_count": 38,
      "outputs": [
        {
          "output_type": "stream",
          "name": "stderr",
          "text": [
            "Installing package into ‘/usr/local/lib/R/site-library’\n",
            "(as ‘lib’ is unspecified)\n",
            "\n",
            "Installing package into ‘/usr/local/lib/R/site-library’\n",
            "(as ‘lib’ is unspecified)\n",
            "\n",
            "Warning message:\n",
            "“package ‘tidyvers’ is not available for this version of R\n",
            "\n",
            "A version of this package for your version of R might be available elsewhere,\n",
            "see the ideas at\n",
            "https://cran.r-project.org/doc/manuals/r-patched/R-admin.html#Installing-packages”\n"
          ]
        }
      ]
    },
    {
      "cell_type": "markdown",
      "source": [
        "#Import libary"
      ],
      "metadata": {
        "id": "kru0bXngQCb-"
      }
    },
    {
      "cell_type": "code",
      "source": [
        "library(dplyr)\n",
        "library(tidyr)"
      ],
      "metadata": {
        "id": "Ae5VXrXjPtXu"
      },
      "execution_count": 39,
      "outputs": []
    },
    {
      "cell_type": "markdown",
      "source": [
        "#Create Data"
      ],
      "metadata": {
        "id": "radYbzzuTUrJ"
      }
    },
    {
      "cell_type": "code",
      "source": [
        "df1 = data.frame(CustomerId = c(1:6),\n",
        "                 Product = c(\"Oven\", \"Television\",\"Mobile\",\"WashingMachine\",\"Lightings\",\"Ipad\"))\n",
        "df1"
      ],
      "metadata": {
        "colab": {
          "base_uri": "https://localhost:8080/",
          "height": 283
        },
        "id": "BVO7s2oOQTn0",
        "outputId": "94211476-ee11-4cc1-93c5-ed653bd324ea"
      },
      "execution_count": 40,
      "outputs": [
        {
          "output_type": "display_data",
          "data": {
            "text/html": [
              "<table class=\"dataframe\">\n",
              "<caption>A data.frame: 6 × 2</caption>\n",
              "<thead>\n",
              "\t<tr><th scope=col>CustomerId</th><th scope=col>Product</th></tr>\n",
              "\t<tr><th scope=col>&lt;int&gt;</th><th scope=col>&lt;chr&gt;</th></tr>\n",
              "</thead>\n",
              "<tbody>\n",
              "\t<tr><td>1</td><td>Oven          </td></tr>\n",
              "\t<tr><td>2</td><td>Television    </td></tr>\n",
              "\t<tr><td>3</td><td>Mobile        </td></tr>\n",
              "\t<tr><td>4</td><td>WashingMachine</td></tr>\n",
              "\t<tr><td>5</td><td>Lightings     </td></tr>\n",
              "\t<tr><td>6</td><td>Ipad          </td></tr>\n",
              "</tbody>\n",
              "</table>\n"
            ],
            "text/markdown": "\nA data.frame: 6 × 2\n\n| CustomerId &lt;int&gt; | Product &lt;chr&gt; |\n|---|---|\n| 1 | Oven           |\n| 2 | Television     |\n| 3 | Mobile         |\n| 4 | WashingMachine |\n| 5 | Lightings      |\n| 6 | Ipad           |\n\n",
            "text/latex": "A data.frame: 6 × 2\n\\begin{tabular}{ll}\n CustomerId & Product\\\\\n <int> & <chr>\\\\\n\\hline\n\t 1 & Oven          \\\\\n\t 2 & Television    \\\\\n\t 3 & Mobile        \\\\\n\t 4 & WashingMachine\\\\\n\t 5 & Lightings     \\\\\n\t 6 & Ipad          \\\\\n\\end{tabular}\n",
            "text/plain": [
              "  CustomerId Product       \n",
              "1 1          Oven          \n",
              "2 2          Television    \n",
              "3 3          Mobile        \n",
              "4 4          WashingMachine\n",
              "5 5          Lightings     \n",
              "6 6          Ipad          "
            ]
          },
          "metadata": {}
        }
      ]
    },
    {
      "cell_type": "code",
      "source": [
        "df2 = data.frame(CustomerId = c(2, 4, 6, 7, 8),\n",
        "                 State = c(\"California\",\"Newyork\",\"Santiago\",\"Texas\",\"Indiana\"))\n",
        "df2"
      ],
      "metadata": {
        "colab": {
          "base_uri": "https://localhost:8080/",
          "height": 252
        },
        "id": "oa_9wZqBTGsl",
        "outputId": "1f108aee-1d86-4867-ee63-47abd442dd7c"
      },
      "execution_count": 41,
      "outputs": [
        {
          "output_type": "display_data",
          "data": {
            "text/html": [
              "<table class=\"dataframe\">\n",
              "<caption>A data.frame: 5 × 2</caption>\n",
              "<thead>\n",
              "\t<tr><th scope=col>CustomerId</th><th scope=col>State</th></tr>\n",
              "\t<tr><th scope=col>&lt;dbl&gt;</th><th scope=col>&lt;chr&gt;</th></tr>\n",
              "</thead>\n",
              "<tbody>\n",
              "\t<tr><td>2</td><td>California</td></tr>\n",
              "\t<tr><td>4</td><td>Newyork   </td></tr>\n",
              "\t<tr><td>6</td><td>Santiago  </td></tr>\n",
              "\t<tr><td>7</td><td>Texas     </td></tr>\n",
              "\t<tr><td>8</td><td>Indiana   </td></tr>\n",
              "</tbody>\n",
              "</table>\n"
            ],
            "text/markdown": "\nA data.frame: 5 × 2\n\n| CustomerId &lt;dbl&gt; | State &lt;chr&gt; |\n|---|---|\n| 2 | California |\n| 4 | Newyork    |\n| 6 | Santiago   |\n| 7 | Texas      |\n| 8 | Indiana    |\n\n",
            "text/latex": "A data.frame: 5 × 2\n\\begin{tabular}{ll}\n CustomerId & State\\\\\n <dbl> & <chr>\\\\\n\\hline\n\t 2 & California\\\\\n\t 4 & Newyork   \\\\\n\t 6 & Santiago  \\\\\n\t 7 & Texas     \\\\\n\t 8 & Indiana   \\\\\n\\end{tabular}\n",
            "text/plain": [
              "  CustomerId State     \n",
              "1 2          California\n",
              "2 4          Newyork   \n",
              "3 6          Santiago  \n",
              "4 7          Texas     \n",
              "5 8          Indiana   "
            ]
          },
          "metadata": {}
        }
      ]
    },
    {
      "cell_type": "code",
      "source": [
        "df3 = data.frame(CustomerId = c(10,30,100,50,60,70),\n",
        "                 Product = c(\"Oven\", \"Television\",\"Mobile\",\"WashingMachine\",\"Lightings\",\"Ipad\"))\n",
        "df3"
      ],
      "metadata": {
        "colab": {
          "base_uri": "https://localhost:8080/",
          "height": 283
        },
        "id": "nDxL2SpMTHy-",
        "outputId": "251fffd3-e21e-49ab-ae9f-d69470526417"
      },
      "execution_count": 42,
      "outputs": [
        {
          "output_type": "display_data",
          "data": {
            "text/html": [
              "<table class=\"dataframe\">\n",
              "<caption>A data.frame: 6 × 2</caption>\n",
              "<thead>\n",
              "\t<tr><th scope=col>CustomerId</th><th scope=col>Product</th></tr>\n",
              "\t<tr><th scope=col>&lt;dbl&gt;</th><th scope=col>&lt;chr&gt;</th></tr>\n",
              "</thead>\n",
              "<tbody>\n",
              "\t<tr><td> 10</td><td>Oven          </td></tr>\n",
              "\t<tr><td> 30</td><td>Television    </td></tr>\n",
              "\t<tr><td>100</td><td>Mobile        </td></tr>\n",
              "\t<tr><td> 50</td><td>WashingMachine</td></tr>\n",
              "\t<tr><td> 60</td><td>Lightings     </td></tr>\n",
              "\t<tr><td> 70</td><td>Ipad          </td></tr>\n",
              "</tbody>\n",
              "</table>\n"
            ],
            "text/markdown": "\nA data.frame: 6 × 2\n\n| CustomerId &lt;dbl&gt; | Product &lt;chr&gt; |\n|---|---|\n|  10 | Oven           |\n|  30 | Television     |\n| 100 | Mobile         |\n|  50 | WashingMachine |\n|  60 | Lightings      |\n|  70 | Ipad           |\n\n",
            "text/latex": "A data.frame: 6 × 2\n\\begin{tabular}{ll}\n CustomerId & Product\\\\\n <dbl> & <chr>\\\\\n\\hline\n\t  10 & Oven          \\\\\n\t  30 & Television    \\\\\n\t 100 & Mobile        \\\\\n\t  50 & WashingMachine\\\\\n\t  60 & Lightings     \\\\\n\t  70 & Ipad          \\\\\n\\end{tabular}\n",
            "text/plain": [
              "  CustomerId Product       \n",
              "1  10        Oven          \n",
              "2  30        Television    \n",
              "3 100        Mobile        \n",
              "4  50        WashingMachine\n",
              "5  60        Lightings     \n",
              "6  70        Ipad          "
            ]
          },
          "metadata": {}
        }
      ]
    },
    {
      "cell_type": "markdown",
      "source": [
        "# Inner join  \n",
        "\n",
        "This function allows you to combine data from two sources based on a common key or keys."
      ],
      "metadata": {
        "id": "uve4lPc1WuYM"
      }
    },
    {
      "cell_type": "code",
      "source": [
        "df_ij1 = inner_join(df1,df2, by ='CustomerId')\n",
        "df_ij1"
      ],
      "metadata": {
        "colab": {
          "base_uri": "https://localhost:8080/",
          "height": 190
        },
        "id": "hv6B5jiZTP4t",
        "outputId": "dce3f441-8680-43c1-be03-51d93e630771"
      },
      "execution_count": 43,
      "outputs": [
        {
          "output_type": "display_data",
          "data": {
            "text/html": [
              "<table class=\"dataframe\">\n",
              "<caption>A data.frame: 3 × 3</caption>\n",
              "<thead>\n",
              "\t<tr><th scope=col>CustomerId</th><th scope=col>Product</th><th scope=col>State</th></tr>\n",
              "\t<tr><th scope=col>&lt;dbl&gt;</th><th scope=col>&lt;chr&gt;</th><th scope=col>&lt;chr&gt;</th></tr>\n",
              "</thead>\n",
              "<tbody>\n",
              "\t<tr><td>2</td><td>Television    </td><td>California</td></tr>\n",
              "\t<tr><td>4</td><td>WashingMachine</td><td>Newyork   </td></tr>\n",
              "\t<tr><td>6</td><td>Ipad          </td><td>Santiago  </td></tr>\n",
              "</tbody>\n",
              "</table>\n"
            ],
            "text/markdown": "\nA data.frame: 3 × 3\n\n| CustomerId &lt;dbl&gt; | Product &lt;chr&gt; | State &lt;chr&gt; |\n|---|---|---|\n| 2 | Television     | California |\n| 4 | WashingMachine | Newyork    |\n| 6 | Ipad           | Santiago   |\n\n",
            "text/latex": "A data.frame: 3 × 3\n\\begin{tabular}{lll}\n CustomerId & Product & State\\\\\n <dbl> & <chr> & <chr>\\\\\n\\hline\n\t 2 & Television     & California\\\\\n\t 4 & WashingMachine & Newyork   \\\\\n\t 6 & Ipad           & Santiago  \\\\\n\\end{tabular}\n",
            "text/plain": [
              "  CustomerId Product        State     \n",
              "1 2          Television     California\n",
              "2 4          WashingMachine Newyork   \n",
              "3 6          Ipad           Santiago  "
            ]
          },
          "metadata": {}
        }
      ]
    },
    {
      "cell_type": "code",
      "source": [
        "df_ij2 = df1 %>% inner_join(df2,by=\"CustomerId\")\n",
        "df_ij2"
      ],
      "metadata": {
        "colab": {
          "base_uri": "https://localhost:8080/",
          "height": 190
        },
        "id": "Ghf4hOQDVNRH",
        "outputId": "aa60a18f-9ea7-4edc-a413-293384ce39c5"
      },
      "execution_count": 44,
      "outputs": [
        {
          "output_type": "display_data",
          "data": {
            "text/html": [
              "<table class=\"dataframe\">\n",
              "<caption>A data.frame: 3 × 3</caption>\n",
              "<thead>\n",
              "\t<tr><th scope=col>CustomerId</th><th scope=col>Product</th><th scope=col>State</th></tr>\n",
              "\t<tr><th scope=col>&lt;dbl&gt;</th><th scope=col>&lt;chr&gt;</th><th scope=col>&lt;chr&gt;</th></tr>\n",
              "</thead>\n",
              "<tbody>\n",
              "\t<tr><td>2</td><td>Television    </td><td>California</td></tr>\n",
              "\t<tr><td>4</td><td>WashingMachine</td><td>Newyork   </td></tr>\n",
              "\t<tr><td>6</td><td>Ipad          </td><td>Santiago  </td></tr>\n",
              "</tbody>\n",
              "</table>\n"
            ],
            "text/markdown": "\nA data.frame: 3 × 3\n\n| CustomerId &lt;dbl&gt; | Product &lt;chr&gt; | State &lt;chr&gt; |\n|---|---|---|\n| 2 | Television     | California |\n| 4 | WashingMachine | Newyork    |\n| 6 | Ipad           | Santiago   |\n\n",
            "text/latex": "A data.frame: 3 × 3\n\\begin{tabular}{lll}\n CustomerId & Product & State\\\\\n <dbl> & <chr> & <chr>\\\\\n\\hline\n\t 2 & Television     & California\\\\\n\t 4 & WashingMachine & Newyork   \\\\\n\t 6 & Ipad           & Santiago  \\\\\n\\end{tabular}\n",
            "text/plain": [
              "  CustomerId Product        State     \n",
              "1 2          Television     California\n",
              "2 4          WashingMachine Newyork   \n",
              "3 6          Ipad           Santiago  "
            ]
          },
          "metadata": {}
        }
      ]
    },
    {
      "cell_type": "markdown",
      "source": [
        "# Outer join\n",
        "\n",
        "A full outer join includes all the rows from both data frames and fills in missing values with NA where there are no matches.  "
      ],
      "metadata": {
        "id": "Jt8MlcgxZMir"
      }
    },
    {
      "cell_type": "code",
      "source": [
        "df_U = full_join(x=df1,y=df2,by=\"CustomerId\") # full_join() keeps all observations in x and y.\n",
        "df_U"
      ],
      "metadata": {
        "colab": {
          "base_uri": "https://localhost:8080/",
          "height": 345
        },
        "id": "IWAss_E7Yph6",
        "outputId": "3183459c-100d-4419-fad8-55f8318aea4f"
      },
      "execution_count": 45,
      "outputs": [
        {
          "output_type": "display_data",
          "data": {
            "text/html": [
              "<table class=\"dataframe\">\n",
              "<caption>A data.frame: 8 × 3</caption>\n",
              "<thead>\n",
              "\t<tr><th scope=col>CustomerId</th><th scope=col>Product</th><th scope=col>State</th></tr>\n",
              "\t<tr><th scope=col>&lt;dbl&gt;</th><th scope=col>&lt;chr&gt;</th><th scope=col>&lt;chr&gt;</th></tr>\n",
              "</thead>\n",
              "<tbody>\n",
              "\t<tr><td>1</td><td>Oven          </td><td>NA        </td></tr>\n",
              "\t<tr><td>2</td><td>Television    </td><td>California</td></tr>\n",
              "\t<tr><td>3</td><td>Mobile        </td><td>NA        </td></tr>\n",
              "\t<tr><td>4</td><td>WashingMachine</td><td>Newyork   </td></tr>\n",
              "\t<tr><td>5</td><td>Lightings     </td><td>NA        </td></tr>\n",
              "\t<tr><td>6</td><td>Ipad          </td><td>Santiago  </td></tr>\n",
              "\t<tr><td>7</td><td>NA            </td><td>Texas     </td></tr>\n",
              "\t<tr><td>8</td><td>NA            </td><td>Indiana   </td></tr>\n",
              "</tbody>\n",
              "</table>\n"
            ],
            "text/markdown": "\nA data.frame: 8 × 3\n\n| CustomerId &lt;dbl&gt; | Product &lt;chr&gt; | State &lt;chr&gt; |\n|---|---|---|\n| 1 | Oven           | NA         |\n| 2 | Television     | California |\n| 3 | Mobile         | NA         |\n| 4 | WashingMachine | Newyork    |\n| 5 | Lightings      | NA         |\n| 6 | Ipad           | Santiago   |\n| 7 | NA             | Texas      |\n| 8 | NA             | Indiana    |\n\n",
            "text/latex": "A data.frame: 8 × 3\n\\begin{tabular}{lll}\n CustomerId & Product & State\\\\\n <dbl> & <chr> & <chr>\\\\\n\\hline\n\t 1 & Oven           & NA        \\\\\n\t 2 & Television     & California\\\\\n\t 3 & Mobile         & NA        \\\\\n\t 4 & WashingMachine & Newyork   \\\\\n\t 5 & Lightings      & NA        \\\\\n\t 6 & Ipad           & Santiago  \\\\\n\t 7 & NA             & Texas     \\\\\n\t 8 & NA             & Indiana   \\\\\n\\end{tabular}\n",
            "text/plain": [
              "  CustomerId Product        State     \n",
              "1 1          Oven           NA        \n",
              "2 2          Television     California\n",
              "3 3          Mobile         NA        \n",
              "4 4          WashingMachine Newyork   \n",
              "5 5          Lightings      NA        \n",
              "6 6          Ipad           Santiago  \n",
              "7 7          NA             Texas     \n",
              "8 8          NA             Indiana   "
            ]
          },
          "metadata": {}
        }
      ]
    },
    {
      "cell_type": "markdown",
      "source": [
        "#Left join\n",
        "\n",
        "A left join returns all the rows from the left data frame and the matched rows from the right data frame. Rows from the left data frame that do not have corresponding matches in the right data frame will have missing values for the right data frame's columns."
      ],
      "metadata": {
        "id": "lhiEbp-caYMW"
      }
    },
    {
      "cell_type": "code",
      "source": [
        "df_left = left_join(x=df1,y=df2,by=\"CustomerId\") # left_join() keeps all observations in x.\n",
        "df_left"
      ],
      "metadata": {
        "colab": {
          "base_uri": "https://localhost:8080/",
          "height": 283
        },
        "id": "TBzalH8fZHW4",
        "outputId": "c840aa77-e73f-4837-e272-b75445579fbd"
      },
      "execution_count": 46,
      "outputs": [
        {
          "output_type": "display_data",
          "data": {
            "text/html": [
              "<table class=\"dataframe\">\n",
              "<caption>A data.frame: 6 × 3</caption>\n",
              "<thead>\n",
              "\t<tr><th scope=col>CustomerId</th><th scope=col>Product</th><th scope=col>State</th></tr>\n",
              "\t<tr><th scope=col>&lt;dbl&gt;</th><th scope=col>&lt;chr&gt;</th><th scope=col>&lt;chr&gt;</th></tr>\n",
              "</thead>\n",
              "<tbody>\n",
              "\t<tr><td>1</td><td>Oven          </td><td>NA        </td></tr>\n",
              "\t<tr><td>2</td><td>Television    </td><td>California</td></tr>\n",
              "\t<tr><td>3</td><td>Mobile        </td><td>NA        </td></tr>\n",
              "\t<tr><td>4</td><td>WashingMachine</td><td>Newyork   </td></tr>\n",
              "\t<tr><td>5</td><td>Lightings     </td><td>NA        </td></tr>\n",
              "\t<tr><td>6</td><td>Ipad          </td><td>Santiago  </td></tr>\n",
              "</tbody>\n",
              "</table>\n"
            ],
            "text/markdown": "\nA data.frame: 6 × 3\n\n| CustomerId &lt;dbl&gt; | Product &lt;chr&gt; | State &lt;chr&gt; |\n|---|---|---|\n| 1 | Oven           | NA         |\n| 2 | Television     | California |\n| 3 | Mobile         | NA         |\n| 4 | WashingMachine | Newyork    |\n| 5 | Lightings      | NA         |\n| 6 | Ipad           | Santiago   |\n\n",
            "text/latex": "A data.frame: 6 × 3\n\\begin{tabular}{lll}\n CustomerId & Product & State\\\\\n <dbl> & <chr> & <chr>\\\\\n\\hline\n\t 1 & Oven           & NA        \\\\\n\t 2 & Television     & California\\\\\n\t 3 & Mobile         & NA        \\\\\n\t 4 & WashingMachine & Newyork   \\\\\n\t 5 & Lightings      & NA        \\\\\n\t 6 & Ipad           & Santiago  \\\\\n\\end{tabular}\n",
            "text/plain": [
              "  CustomerId Product        State     \n",
              "1 1          Oven           NA        \n",
              "2 2          Television     California\n",
              "3 3          Mobile         NA        \n",
              "4 4          WashingMachine Newyork   \n",
              "5 5          Lightings      NA        \n",
              "6 6          Ipad           Santiago  "
            ]
          },
          "metadata": {}
        }
      ]
    },
    {
      "cell_type": "markdown",
      "source": [
        "#Right join\n",
        "\n",
        "A right join returns all the rows from the right data frame and the matched rows from the left data frame. Rows from the right data frame that do not have corresponding matches in the left data frame will have missing values for the left data frame's columns."
      ],
      "metadata": {
        "id": "_GfouT8Wb6Wk"
      }
    },
    {
      "cell_type": "code",
      "source": [
        "df_right = right_join(x=df1,y=df2,by=\"CustomerId\") # right_join() keeps all observations in y.\n",
        "df_right"
      ],
      "metadata": {
        "colab": {
          "base_uri": "https://localhost:8080/",
          "height": 252
        },
        "id": "RzFS-RZZbgFZ",
        "outputId": "e4be5a0f-575a-48e4-87bf-542cb0b63260"
      },
      "execution_count": 47,
      "outputs": [
        {
          "output_type": "display_data",
          "data": {
            "text/html": [
              "<table class=\"dataframe\">\n",
              "<caption>A data.frame: 5 × 3</caption>\n",
              "<thead>\n",
              "\t<tr><th scope=col>CustomerId</th><th scope=col>Product</th><th scope=col>State</th></tr>\n",
              "\t<tr><th scope=col>&lt;dbl&gt;</th><th scope=col>&lt;chr&gt;</th><th scope=col>&lt;chr&gt;</th></tr>\n",
              "</thead>\n",
              "<tbody>\n",
              "\t<tr><td>2</td><td>Television    </td><td>California</td></tr>\n",
              "\t<tr><td>4</td><td>WashingMachine</td><td>Newyork   </td></tr>\n",
              "\t<tr><td>6</td><td>Ipad          </td><td>Santiago  </td></tr>\n",
              "\t<tr><td>7</td><td>NA            </td><td>Texas     </td></tr>\n",
              "\t<tr><td>8</td><td>NA            </td><td>Indiana   </td></tr>\n",
              "</tbody>\n",
              "</table>\n"
            ],
            "text/markdown": "\nA data.frame: 5 × 3\n\n| CustomerId &lt;dbl&gt; | Product &lt;chr&gt; | State &lt;chr&gt; |\n|---|---|---|\n| 2 | Television     | California |\n| 4 | WashingMachine | Newyork    |\n| 6 | Ipad           | Santiago   |\n| 7 | NA             | Texas      |\n| 8 | NA             | Indiana    |\n\n",
            "text/latex": "A data.frame: 5 × 3\n\\begin{tabular}{lll}\n CustomerId & Product & State\\\\\n <dbl> & <chr> & <chr>\\\\\n\\hline\n\t 2 & Television     & California\\\\\n\t 4 & WashingMachine & Newyork   \\\\\n\t 6 & Ipad           & Santiago  \\\\\n\t 7 & NA             & Texas     \\\\\n\t 8 & NA             & Indiana   \\\\\n\\end{tabular}\n",
            "text/plain": [
              "  CustomerId Product        State     \n",
              "1 2          Television     California\n",
              "2 4          WashingMachine Newyork   \n",
              "3 6          Ipad           Santiago  \n",
              "4 7          NA             Texas     \n",
              "5 8          NA             Indiana   "
            ]
          },
          "metadata": {}
        }
      ]
    },
    {
      "cell_type": "markdown",
      "source": [
        "#Show result"
      ],
      "metadata": {
        "id": "aeZzu1_McSo4"
      }
    },
    {
      "cell_type": "code",
      "source": [
        "df_U %>% glimpse()"
      ],
      "metadata": {
        "colab": {
          "base_uri": "https://localhost:8080/"
        },
        "id": "M1dIfpcPcYMX",
        "outputId": "98c3dcd4-dcf1-4391-a9c5-76e8b2b35e9f"
      },
      "execution_count": 48,
      "outputs": [
        {
          "output_type": "stream",
          "name": "stdout",
          "text": [
            "Rows: 8\n",
            "Columns: 3\n",
            "$ CustomerId \u001b[3m\u001b[90m<dbl>\u001b[39m\u001b[23m 1, 2, 3, 4, 5, 6, 7, 8\n",
            "$ Product    \u001b[3m\u001b[90m<chr>\u001b[39m\u001b[23m \"Oven\", \"Television\", \"Mobile\", \"WashingMachine\", \"Lighting…\n",
            "$ State      \u001b[3m\u001b[90m<chr>\u001b[39m\u001b[23m NA, \"California\", NA, \"Newyork\", NA, \"Santiago\", \"Texas\", \"…\n"
          ]
        }
      ]
    },
    {
      "cell_type": "code",
      "source": [
        "glimpse(df_U)"
      ],
      "metadata": {
        "colab": {
          "base_uri": "https://localhost:8080/"
        },
        "id": "4iFRvhxYce76",
        "outputId": "b56642e0-3713-462f-8f7c-441831b7a683"
      },
      "execution_count": 49,
      "outputs": [
        {
          "output_type": "stream",
          "name": "stdout",
          "text": [
            "Rows: 8\n",
            "Columns: 3\n",
            "$ CustomerId \u001b[3m\u001b[90m<dbl>\u001b[39m\u001b[23m 1, 2, 3, 4, 5, 6, 7, 8\n",
            "$ Product    \u001b[3m\u001b[90m<chr>\u001b[39m\u001b[23m \"Oven\", \"Television\", \"Mobile\", \"WashingMachine\", \"Lighting…\n",
            "$ State      \u001b[3m\u001b[90m<chr>\u001b[39m\u001b[23m NA, \"California\", NA, \"Newyork\", NA, \"Santiago\", \"Texas\", \"…\n"
          ]
        }
      ]
    },
    {
      "cell_type": "markdown",
      "source": [
        "#Missing data"
      ],
      "metadata": {
        "id": "b1MOpyKAegq2"
      }
    },
    {
      "cell_type": "code",
      "source": [
        "results = apply(is.na(df_left),2,which) # check missing data in each column\n",
        "results"
      ],
      "metadata": {
        "colab": {
          "base_uri": "https://localhost:8080/",
          "height": 113
        },
        "id": "bKy8KN6CcVgY",
        "outputId": "0a57a11a-6ec2-453a-8206-3cbc88f44747"
      },
      "execution_count": 50,
      "outputs": [
        {
          "output_type": "display_data",
          "data": {
            "text/html": [
              "<dl>\n",
              "\t<dt>$CustomerId</dt>\n",
              "\t\t<dd></dd>\n",
              "\t<dt>$Product</dt>\n",
              "\t\t<dd></dd>\n",
              "\t<dt>$State</dt>\n",
              "\t\t<dd><style>\n",
              ".list-inline {list-style: none; margin:0; padding: 0}\n",
              ".list-inline>li {display: inline-block}\n",
              ".list-inline>li:not(:last-child)::after {content: \"\\00b7\"; padding: 0 .5ex}\n",
              "</style>\n",
              "<ol class=list-inline><li>1</li><li>3</li><li>5</li></ol>\n",
              "</dd>\n",
              "</dl>\n"
            ],
            "text/markdown": "$CustomerId\n:   \n$Product\n:   \n$State\n:   1. 1\n2. 3\n3. 5\n\n\n\n\n\n",
            "text/latex": "\\begin{description}\n\\item[\\$CustomerId] \n\\item[\\$Product] \n\\item[\\$State] \\begin{enumerate*}\n\\item 1\n\\item 3\n\\item 5\n\\end{enumerate*}\n\n\\end{description}\n",
            "text/plain": [
              "$CustomerId\n",
              "integer(0)\n",
              "\n",
              "$Product\n",
              "integer(0)\n",
              "\n",
              "$State\n",
              "[1] 1 3 5\n"
            ]
          },
          "metadata": {}
        }
      ]
    },
    {
      "cell_type": "code",
      "source": [
        "df_UC = drop_na(df_U) # Fillter out the missing values by drop_na\n",
        "df_UC"
      ],
      "metadata": {
        "colab": {
          "base_uri": "https://localhost:8080/",
          "height": 190
        },
        "id": "A1oUA_MndsKy",
        "outputId": "1e19e9b3-c064-4ad4-d76b-1366833fe4c8"
      },
      "execution_count": 51,
      "outputs": [
        {
          "output_type": "display_data",
          "data": {
            "text/html": [
              "<table class=\"dataframe\">\n",
              "<caption>A data.frame: 3 × 3</caption>\n",
              "<thead>\n",
              "\t<tr><th scope=col>CustomerId</th><th scope=col>Product</th><th scope=col>State</th></tr>\n",
              "\t<tr><th scope=col>&lt;dbl&gt;</th><th scope=col>&lt;chr&gt;</th><th scope=col>&lt;chr&gt;</th></tr>\n",
              "</thead>\n",
              "<tbody>\n",
              "\t<tr><td>2</td><td>Television    </td><td>California</td></tr>\n",
              "\t<tr><td>4</td><td>WashingMachine</td><td>Newyork   </td></tr>\n",
              "\t<tr><td>6</td><td>Ipad          </td><td>Santiago  </td></tr>\n",
              "</tbody>\n",
              "</table>\n"
            ],
            "text/markdown": "\nA data.frame: 3 × 3\n\n| CustomerId &lt;dbl&gt; | Product &lt;chr&gt; | State &lt;chr&gt; |\n|---|---|---|\n| 2 | Television     | California |\n| 4 | WashingMachine | Newyork    |\n| 6 | Ipad           | Santiago   |\n\n",
            "text/latex": "A data.frame: 3 × 3\n\\begin{tabular}{lll}\n CustomerId & Product & State\\\\\n <dbl> & <chr> & <chr>\\\\\n\\hline\n\t 2 & Television     & California\\\\\n\t 4 & WashingMachine & Newyork   \\\\\n\t 6 & Ipad           & Santiago  \\\\\n\\end{tabular}\n",
            "text/plain": [
              "  CustomerId Product        State     \n",
              "1 2          Television     California\n",
              "2 4          WashingMachine Newyork   \n",
              "3 6          Ipad           Santiago  "
            ]
          },
          "metadata": {}
        }
      ]
    }
  ]
}