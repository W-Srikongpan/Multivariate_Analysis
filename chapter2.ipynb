{
  "nbformat": 4,
  "nbformat_minor": 0,
  "metadata": {
    "colab": {
      "provenance": [],
      "toc_visible": true,
      "collapsed_sections": [
        "XX68ivQ656wU"
      ],
      "authorship_tag": "ABX9TyP5AP+9Ch05T4iCV53wLtz+",
      "include_colab_link": true
    },
    "kernelspec": {
      "name": "ir",
      "display_name": "R"
    },
    "language_info": {
      "name": "R"
    }
  },
  "cells": [
    {
      "cell_type": "markdown",
      "metadata": {
        "id": "view-in-github",
        "colab_type": "text"
      },
      "source": [
        "<a href=\"https://colab.research.google.com/github/W-Srikongpan/Multivariate_Analysis/blob/main/chapter2.ipynb\" target=\"_parent\"><img src=\"https://colab.research.google.com/assets/colab-badge.svg\" alt=\"Open In Colab\"/></a>"
      ]
    },
    {
      "cell_type": "markdown",
      "source": [
        "#Introduction  "
      ],
      "metadata": {
        "id": "l5Ly2Xmn6Mjy"
      }
    },
    {
      "cell_type": "markdown",
      "source": [
        "##Install packages  "
      ],
      "metadata": {
        "id": "vuNzjGLjw6YE"
      }
    },
    {
      "cell_type": "code",
      "execution_count": 1,
      "metadata": {
        "colab": {
          "base_uri": "https://localhost:8080/"
        },
        "id": "dvlj9NyJwthm",
        "outputId": "1e206fe5-11f4-4567-cd0f-af79882f8402"
      },
      "outputs": [
        {
          "output_type": "stream",
          "name": "stderr",
          "text": [
            "Installing package into ‘/usr/local/lib/R/site-library’\n",
            "(as ‘lib’ is unspecified)\n",
            "\n",
            "also installing the dependencies ‘plyr’, ‘Rcpp’, ‘htmlwidgets’, ‘igraph’, ‘reshape2’, ‘gridExtra’, ‘networkD3’\n",
            "\n",
            "\n",
            "Installing package into ‘/usr/local/lib/R/site-library’\n",
            "(as ‘lib’ is unspecified)\n",
            "\n"
          ]
        }
      ],
      "source": [
        "install.packages(\"DataExplorer\")\n",
        "install.packages(\"googledrive\")"
      ]
    },
    {
      "cell_type": "markdown",
      "source": [
        "##Import libary"
      ],
      "metadata": {
        "id": "zUDA8C0TxXwU"
      }
    },
    {
      "cell_type": "code",
      "source": [
        "library(DataExplorer)\n",
        "library(tidyr)\n",
        "library(googledrive)"
      ],
      "metadata": {
        "id": "6s6OCn1sw64n"
      },
      "execution_count": 2,
      "outputs": []
    },
    {
      "cell_type": "markdown",
      "source": [
        "##Import file\n"
      ],
      "metadata": {
        "id": "CtUzwFVXy-7U"
      }
    },
    {
      "cell_type": "code",
      "source": [
        "data = read.csv('/content/sample_data/CreditApproval.csv')"
      ],
      "metadata": {
        "id": "CW35hHSd0VZM",
        "colab": {
          "base_uri": "https://localhost:8080/",
          "height": 225
        },
        "outputId": "11098476-bc91-4946-8e1a-45611492147e"
      },
      "execution_count": 3,
      "outputs": [
        {
          "output_type": "stream",
          "name": "stderr",
          "text": [
            "Warning message in file(file, \"rt\"):\n",
            "“cannot open file '/content/sample_data/CreditApproval.csv': No such file or directory”\n"
          ]
        },
        {
          "output_type": "error",
          "ename": "ERROR",
          "evalue": "ignored",
          "traceback": [
            "Error in file(file, \"rt\"): cannot open the connection\nTraceback:\n",
            "1. read.csv(\"/content/sample_data/CreditApproval.csv\")",
            "2. read.table(file = file, header = header, sep = sep, quote = quote, \n .     dec = dec, fill = fill, comment.char = comment.char, ...)",
            "3. file(file, \"rt\")"
          ]
        }
      ]
    },
    {
      "cell_type": "markdown",
      "source": [
        "##Descriptive"
      ],
      "metadata": {
        "id": "NJzr-ezf3PKp"
      }
    },
    {
      "cell_type": "code",
      "source": [
        "introduce(data) #check about data"
      ],
      "metadata": {
        "id": "E3xn9NQZ3PmB"
      },
      "execution_count": null,
      "outputs": []
    },
    {
      "cell_type": "code",
      "source": [
        "head(data) #View data"
      ],
      "metadata": {
        "id": "OnM61S703R7n"
      },
      "execution_count": null,
      "outputs": []
    },
    {
      "cell_type": "markdown",
      "source": [
        "##Missing data"
      ],
      "metadata": {
        "id": "2lWMxE0Q4EqO"
      }
    },
    {
      "cell_type": "code",
      "source": [
        "plot_missing(data) #plot missing data"
      ],
      "metadata": {
        "id": "F0N-D0V43lhv"
      },
      "execution_count": null,
      "outputs": []
    },
    {
      "cell_type": "code",
      "source": [
        "datac = apply(is.na(data),2,which)\n",
        "datac = drop_na(data)\n",
        "head(datac)"
      ],
      "metadata": {
        "id": "8N5-M1t04KtS"
      },
      "execution_count": null,
      "outputs": []
    },
    {
      "cell_type": "markdown",
      "source": [
        "##Plot data"
      ],
      "metadata": {
        "id": "mMmB6WrF5BaY"
      }
    },
    {
      "cell_type": "code",
      "source": [
        "plot_bar(data[,c('A1','A4','A5')]) #plot bar data A1 A4 A5"
      ],
      "metadata": {
        "id": "qbgoqnRu5Juw"
      },
      "execution_count": null,
      "outputs": []
    },
    {
      "cell_type": "code",
      "source": [
        "plot_scatterplot(data[,c('A2','A3')],by = 'A2') #plot scatterplot data A2 A3"
      ],
      "metadata": {
        "id": "S-sOYYHf5RtD"
      },
      "execution_count": null,
      "outputs": []
    },
    {
      "cell_type": "code",
      "source": [
        "plot_histogram(data[,c('A2')]) #plot histogram data A2"
      ],
      "metadata": {
        "id": "z44ollcY5biF"
      },
      "execution_count": null,
      "outputs": []
    },
    {
      "cell_type": "markdown",
      "source": [
        "##Summary data"
      ],
      "metadata": {
        "id": "XX68ivQ656wU"
      }
    },
    {
      "cell_type": "code",
      "source": [
        "summary(data) #check about data"
      ],
      "metadata": {
        "id": "2GmTk9Wq5y_S"
      },
      "execution_count": null,
      "outputs": []
    },
    {
      "cell_type": "markdown",
      "source": [
        "#Simulation multivariate normal distribution"
      ],
      "metadata": {
        "id": "Bp_M8NCH55x1"
      }
    },
    {
      "cell_type": "markdown",
      "source": [
        "##Install packages"
      ],
      "metadata": {
        "id": "TFni60NpRUey"
      }
    },
    {
      "cell_type": "code",
      "source": [
        "install.packages(\"MASS\")\n",
        "install.packages(\"MVN\")"
      ],
      "metadata": {
        "id": "z107SB7b51Vu"
      },
      "execution_count": null,
      "outputs": []
    },
    {
      "cell_type": "markdown",
      "source": [
        "##Import libary"
      ],
      "metadata": {
        "id": "meig-MPMRabP"
      }
    },
    {
      "cell_type": "code",
      "source": [
        "library(MASS)\n",
        "library(MVN)\n",
        "library(ggplot2)"
      ],
      "metadata": {
        "id": "A-jLj3o2RULB"
      },
      "execution_count": null,
      "outputs": []
    },
    {
      "cell_type": "markdown",
      "source": [
        "##Create Data"
      ],
      "metadata": {
        "id": "psW9ErWcRllw"
      }
    },
    {
      "cell_type": "code",
      "source": [
        "n = 100\n",
        "mu = c(0,0)\n",
        "sigma = matrix(c(10,3,3,2),2,2)\n",
        "set.seed(1)\n",
        "data2 = mvrnorm(n,mu,sigma)"
      ],
      "metadata": {
        "id": "8iooWes4Rovc"
      },
      "execution_count": null,
      "outputs": []
    },
    {
      "cell_type": "markdown",
      "source": [
        "##Normality test\n",
        "\n",
        "    H0 : data2 is multivariate is normal distribution\n",
        "    H1 : data2 is multivariate is not normal distribution\n",
        "\n",
        "For conclustion, we will reject H0 iff p-value < 0.05"
      ],
      "metadata": {
        "id": "qaQVcGAwRwu-"
      }
    },
    {
      "cell_type": "code",
      "source": [
        "result = mvn(data2,mvnTest = 'energy')"
      ],
      "metadata": {
        "id": "adFsIUk0Rqqm"
      },
      "execution_count": null,
      "outputs": []
    },
    {
      "cell_type": "markdown",
      "source": [
        "p-value = 0.22\n",
        "\n",
        "Accept H0, So data2 is multivariate is normal distribution"
      ],
      "metadata": {
        "id": "ZI4I5GP-SAuE"
      }
    },
    {
      "cell_type": "code",
      "source": [],
      "metadata": {
        "id": "18JsjnqKR_vv"
      },
      "execution_count": null,
      "outputs": []
    }
  ]
}